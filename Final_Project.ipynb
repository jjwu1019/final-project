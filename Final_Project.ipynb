{
 "cells": [
  {
   "cell_type": "code",
   "execution_count": 1,
   "metadata": {},
   "outputs": [],
   "source": [
    "import pandas as pd\n",
    "import numpy as np\n",
    "import matplotlib.pyplot as plt\n",
    "import seaborn as sns\n",
    "import warnings\n",
    "warnings.filterwarnings('ignore')"
   ]
  },
  {
   "cell_type": "code",
   "execution_count": 2,
   "metadata": {},
   "outputs": [],
   "source": [
    "%matplotlib inline\n",
    "sns.set_style('darkgrid')"
   ]
  },
  {
   "cell_type": "code",
   "execution_count": 56,
   "metadata": {},
   "outputs": [
    {
     "data": {
      "text/html": [
       "<div>\n",
       "<style scoped>\n",
       "    .dataframe tbody tr th:only-of-type {\n",
       "        vertical-align: middle;\n",
       "    }\n",
       "\n",
       "    .dataframe tbody tr th {\n",
       "        vertical-align: top;\n",
       "    }\n",
       "\n",
       "    .dataframe thead th {\n",
       "        text-align: right;\n",
       "    }\n",
       "</style>\n",
       "<table border=\"1\" class=\"dataframe\">\n",
       "  <thead>\n",
       "    <tr style=\"text-align: right;\">\n",
       "      <th></th>\n",
       "      <th>gameId</th>\n",
       "      <th>blueWins</th>\n",
       "      <th>blueWardsPlaced</th>\n",
       "      <th>blueWardsDestroyed</th>\n",
       "      <th>blueFirstBlood</th>\n",
       "      <th>blueKills</th>\n",
       "      <th>blueDeaths</th>\n",
       "      <th>blueAssists</th>\n",
       "      <th>blueEliteMonsters</th>\n",
       "      <th>blueDragons</th>\n",
       "      <th>...</th>\n",
       "      <th>redTowersDestroyed</th>\n",
       "      <th>redTotalGold</th>\n",
       "      <th>redAvgLevel</th>\n",
       "      <th>redTotalExperience</th>\n",
       "      <th>redTotalMinionsKilled</th>\n",
       "      <th>redTotalJungleMinionsKilled</th>\n",
       "      <th>redGoldDiff</th>\n",
       "      <th>redExperienceDiff</th>\n",
       "      <th>redCSPerMin</th>\n",
       "      <th>redGoldPerMin</th>\n",
       "    </tr>\n",
       "  </thead>\n",
       "  <tbody>\n",
       "    <tr>\n",
       "      <th>0</th>\n",
       "      <td>4519157822</td>\n",
       "      <td>0</td>\n",
       "      <td>28</td>\n",
       "      <td>2</td>\n",
       "      <td>1</td>\n",
       "      <td>9</td>\n",
       "      <td>6</td>\n",
       "      <td>11</td>\n",
       "      <td>0</td>\n",
       "      <td>0</td>\n",
       "      <td>...</td>\n",
       "      <td>0</td>\n",
       "      <td>16567</td>\n",
       "      <td>6.8</td>\n",
       "      <td>17047</td>\n",
       "      <td>197</td>\n",
       "      <td>55</td>\n",
       "      <td>-643</td>\n",
       "      <td>8</td>\n",
       "      <td>19.7</td>\n",
       "      <td>1656.7</td>\n",
       "    </tr>\n",
       "    <tr>\n",
       "      <th>1</th>\n",
       "      <td>4523371949</td>\n",
       "      <td>0</td>\n",
       "      <td>12</td>\n",
       "      <td>1</td>\n",
       "      <td>0</td>\n",
       "      <td>5</td>\n",
       "      <td>5</td>\n",
       "      <td>5</td>\n",
       "      <td>0</td>\n",
       "      <td>0</td>\n",
       "      <td>...</td>\n",
       "      <td>1</td>\n",
       "      <td>17620</td>\n",
       "      <td>6.8</td>\n",
       "      <td>17438</td>\n",
       "      <td>240</td>\n",
       "      <td>52</td>\n",
       "      <td>2908</td>\n",
       "      <td>1173</td>\n",
       "      <td>24.0</td>\n",
       "      <td>1762.0</td>\n",
       "    </tr>\n",
       "    <tr>\n",
       "      <th>2</th>\n",
       "      <td>4521474530</td>\n",
       "      <td>0</td>\n",
       "      <td>15</td>\n",
       "      <td>0</td>\n",
       "      <td>0</td>\n",
       "      <td>7</td>\n",
       "      <td>11</td>\n",
       "      <td>4</td>\n",
       "      <td>1</td>\n",
       "      <td>1</td>\n",
       "      <td>...</td>\n",
       "      <td>0</td>\n",
       "      <td>17285</td>\n",
       "      <td>6.8</td>\n",
       "      <td>17254</td>\n",
       "      <td>203</td>\n",
       "      <td>28</td>\n",
       "      <td>1172</td>\n",
       "      <td>1033</td>\n",
       "      <td>20.3</td>\n",
       "      <td>1728.5</td>\n",
       "    </tr>\n",
       "    <tr>\n",
       "      <th>3</th>\n",
       "      <td>4524384067</td>\n",
       "      <td>0</td>\n",
       "      <td>43</td>\n",
       "      <td>1</td>\n",
       "      <td>0</td>\n",
       "      <td>4</td>\n",
       "      <td>5</td>\n",
       "      <td>5</td>\n",
       "      <td>1</td>\n",
       "      <td>0</td>\n",
       "      <td>...</td>\n",
       "      <td>0</td>\n",
       "      <td>16478</td>\n",
       "      <td>7.0</td>\n",
       "      <td>17961</td>\n",
       "      <td>235</td>\n",
       "      <td>47</td>\n",
       "      <td>1321</td>\n",
       "      <td>7</td>\n",
       "      <td>23.5</td>\n",
       "      <td>1647.8</td>\n",
       "    </tr>\n",
       "    <tr>\n",
       "      <th>4</th>\n",
       "      <td>4436033771</td>\n",
       "      <td>0</td>\n",
       "      <td>75</td>\n",
       "      <td>4</td>\n",
       "      <td>0</td>\n",
       "      <td>6</td>\n",
       "      <td>6</td>\n",
       "      <td>6</td>\n",
       "      <td>0</td>\n",
       "      <td>0</td>\n",
       "      <td>...</td>\n",
       "      <td>0</td>\n",
       "      <td>17404</td>\n",
       "      <td>7.0</td>\n",
       "      <td>18313</td>\n",
       "      <td>225</td>\n",
       "      <td>67</td>\n",
       "      <td>1004</td>\n",
       "      <td>-230</td>\n",
       "      <td>22.5</td>\n",
       "      <td>1740.4</td>\n",
       "    </tr>\n",
       "    <tr>\n",
       "      <th>...</th>\n",
       "      <td>...</td>\n",
       "      <td>...</td>\n",
       "      <td>...</td>\n",
       "      <td>...</td>\n",
       "      <td>...</td>\n",
       "      <td>...</td>\n",
       "      <td>...</td>\n",
       "      <td>...</td>\n",
       "      <td>...</td>\n",
       "      <td>...</td>\n",
       "      <td>...</td>\n",
       "      <td>...</td>\n",
       "      <td>...</td>\n",
       "      <td>...</td>\n",
       "      <td>...</td>\n",
       "      <td>...</td>\n",
       "      <td>...</td>\n",
       "      <td>...</td>\n",
       "      <td>...</td>\n",
       "      <td>...</td>\n",
       "      <td>...</td>\n",
       "    </tr>\n",
       "    <tr>\n",
       "      <th>9874</th>\n",
       "      <td>4527873286</td>\n",
       "      <td>1</td>\n",
       "      <td>17</td>\n",
       "      <td>2</td>\n",
       "      <td>1</td>\n",
       "      <td>7</td>\n",
       "      <td>4</td>\n",
       "      <td>5</td>\n",
       "      <td>1</td>\n",
       "      <td>1</td>\n",
       "      <td>...</td>\n",
       "      <td>0</td>\n",
       "      <td>15246</td>\n",
       "      <td>6.8</td>\n",
       "      <td>16498</td>\n",
       "      <td>229</td>\n",
       "      <td>34</td>\n",
       "      <td>-2519</td>\n",
       "      <td>-2469</td>\n",
       "      <td>22.9</td>\n",
       "      <td>1524.6</td>\n",
       "    </tr>\n",
       "    <tr>\n",
       "      <th>9875</th>\n",
       "      <td>4527797466</td>\n",
       "      <td>1</td>\n",
       "      <td>54</td>\n",
       "      <td>0</td>\n",
       "      <td>0</td>\n",
       "      <td>6</td>\n",
       "      <td>4</td>\n",
       "      <td>8</td>\n",
       "      <td>1</td>\n",
       "      <td>1</td>\n",
       "      <td>...</td>\n",
       "      <td>0</td>\n",
       "      <td>15456</td>\n",
       "      <td>7.0</td>\n",
       "      <td>18367</td>\n",
       "      <td>206</td>\n",
       "      <td>56</td>\n",
       "      <td>-782</td>\n",
       "      <td>-888</td>\n",
       "      <td>20.6</td>\n",
       "      <td>1545.6</td>\n",
       "    </tr>\n",
       "    <tr>\n",
       "      <th>9876</th>\n",
       "      <td>4527713716</td>\n",
       "      <td>0</td>\n",
       "      <td>23</td>\n",
       "      <td>1</td>\n",
       "      <td>0</td>\n",
       "      <td>6</td>\n",
       "      <td>7</td>\n",
       "      <td>5</td>\n",
       "      <td>0</td>\n",
       "      <td>0</td>\n",
       "      <td>...</td>\n",
       "      <td>0</td>\n",
       "      <td>18319</td>\n",
       "      <td>7.4</td>\n",
       "      <td>19909</td>\n",
       "      <td>261</td>\n",
       "      <td>60</td>\n",
       "      <td>2416</td>\n",
       "      <td>1877</td>\n",
       "      <td>26.1</td>\n",
       "      <td>1831.9</td>\n",
       "    </tr>\n",
       "    <tr>\n",
       "      <th>9877</th>\n",
       "      <td>4527628313</td>\n",
       "      <td>0</td>\n",
       "      <td>14</td>\n",
       "      <td>4</td>\n",
       "      <td>1</td>\n",
       "      <td>2</td>\n",
       "      <td>3</td>\n",
       "      <td>3</td>\n",
       "      <td>1</td>\n",
       "      <td>1</td>\n",
       "      <td>...</td>\n",
       "      <td>0</td>\n",
       "      <td>15298</td>\n",
       "      <td>7.2</td>\n",
       "      <td>18314</td>\n",
       "      <td>247</td>\n",
       "      <td>40</td>\n",
       "      <td>839</td>\n",
       "      <td>1085</td>\n",
       "      <td>24.7</td>\n",
       "      <td>1529.8</td>\n",
       "    </tr>\n",
       "    <tr>\n",
       "      <th>9878</th>\n",
       "      <td>4523772935</td>\n",
       "      <td>1</td>\n",
       "      <td>18</td>\n",
       "      <td>0</td>\n",
       "      <td>1</td>\n",
       "      <td>6</td>\n",
       "      <td>6</td>\n",
       "      <td>5</td>\n",
       "      <td>0</td>\n",
       "      <td>0</td>\n",
       "      <td>...</td>\n",
       "      <td>0</td>\n",
       "      <td>15339</td>\n",
       "      <td>6.8</td>\n",
       "      <td>17379</td>\n",
       "      <td>201</td>\n",
       "      <td>46</td>\n",
       "      <td>-927</td>\n",
       "      <td>58</td>\n",
       "      <td>20.1</td>\n",
       "      <td>1533.9</td>\n",
       "    </tr>\n",
       "  </tbody>\n",
       "</table>\n",
       "<p>9879 rows × 40 columns</p>\n",
       "</div>"
      ],
      "text/plain": [
       "          gameId  blueWins  blueWardsPlaced  blueWardsDestroyed  \\\n",
       "0     4519157822         0               28                   2   \n",
       "1     4523371949         0               12                   1   \n",
       "2     4521474530         0               15                   0   \n",
       "3     4524384067         0               43                   1   \n",
       "4     4436033771         0               75                   4   \n",
       "...          ...       ...              ...                 ...   \n",
       "9874  4527873286         1               17                   2   \n",
       "9875  4527797466         1               54                   0   \n",
       "9876  4527713716         0               23                   1   \n",
       "9877  4527628313         0               14                   4   \n",
       "9878  4523772935         1               18                   0   \n",
       "\n",
       "      blueFirstBlood  blueKills  blueDeaths  blueAssists  blueEliteMonsters  \\\n",
       "0                  1          9           6           11                  0   \n",
       "1                  0          5           5            5                  0   \n",
       "2                  0          7          11            4                  1   \n",
       "3                  0          4           5            5                  1   \n",
       "4                  0          6           6            6                  0   \n",
       "...              ...        ...         ...          ...                ...   \n",
       "9874               1          7           4            5                  1   \n",
       "9875               0          6           4            8                  1   \n",
       "9876               0          6           7            5                  0   \n",
       "9877               1          2           3            3                  1   \n",
       "9878               1          6           6            5                  0   \n",
       "\n",
       "      blueDragons  ...  redTowersDestroyed  redTotalGold  redAvgLevel  \\\n",
       "0               0  ...                   0         16567          6.8   \n",
       "1               0  ...                   1         17620          6.8   \n",
       "2               1  ...                   0         17285          6.8   \n",
       "3               0  ...                   0         16478          7.0   \n",
       "4               0  ...                   0         17404          7.0   \n",
       "...           ...  ...                 ...           ...          ...   \n",
       "9874            1  ...                   0         15246          6.8   \n",
       "9875            1  ...                   0         15456          7.0   \n",
       "9876            0  ...                   0         18319          7.4   \n",
       "9877            1  ...                   0         15298          7.2   \n",
       "9878            0  ...                   0         15339          6.8   \n",
       "\n",
       "      redTotalExperience  redTotalMinionsKilled  redTotalJungleMinionsKilled  \\\n",
       "0                  17047                    197                           55   \n",
       "1                  17438                    240                           52   \n",
       "2                  17254                    203                           28   \n",
       "3                  17961                    235                           47   \n",
       "4                  18313                    225                           67   \n",
       "...                  ...                    ...                          ...   \n",
       "9874               16498                    229                           34   \n",
       "9875               18367                    206                           56   \n",
       "9876               19909                    261                           60   \n",
       "9877               18314                    247                           40   \n",
       "9878               17379                    201                           46   \n",
       "\n",
       "      redGoldDiff  redExperienceDiff  redCSPerMin  redGoldPerMin  \n",
       "0            -643                  8         19.7         1656.7  \n",
       "1            2908               1173         24.0         1762.0  \n",
       "2            1172               1033         20.3         1728.5  \n",
       "3            1321                  7         23.5         1647.8  \n",
       "4            1004               -230         22.5         1740.4  \n",
       "...           ...                ...          ...            ...  \n",
       "9874        -2519              -2469         22.9         1524.6  \n",
       "9875         -782               -888         20.6         1545.6  \n",
       "9876         2416               1877         26.1         1831.9  \n",
       "9877          839               1085         24.7         1529.8  \n",
       "9878         -927                 58         20.1         1533.9  \n",
       "\n",
       "[9879 rows x 40 columns]"
      ]
     },
     "execution_count": 56,
     "metadata": {},
     "output_type": "execute_result"
    }
   ],
   "source": [
    "#load csv\n",
    "df = pd.read_csv(\"high_diamond_ranked_10min.csv\")\n",
    "df"
   ]
  },
  {
   "cell_type": "code",
   "execution_count": 4,
   "metadata": {},
   "outputs": [
    {
     "data": {
      "text/plain": [
       "gameId                          0\n",
       "blueWins                        0\n",
       "blueWardsPlaced                 0\n",
       "blueWardsDestroyed              0\n",
       "blueFirstBlood                  0\n",
       "blueKills                       0\n",
       "blueDeaths                      0\n",
       "blueAssists                     0\n",
       "blueEliteMonsters               0\n",
       "blueDragons                     0\n",
       "blueHeralds                     0\n",
       "blueTowersDestroyed             0\n",
       "blueTotalGold                   0\n",
       "blueAvgLevel                    0\n",
       "blueTotalExperience             0\n",
       "blueTotalMinionsKilled          0\n",
       "blueTotalJungleMinionsKilled    0\n",
       "blueGoldDiff                    0\n",
       "blueExperienceDiff              0\n",
       "blueCSPerMin                    0\n",
       "blueGoldPerMin                  0\n",
       "redWardsPlaced                  0\n",
       "redWardsDestroyed               0\n",
       "redFirstBlood                   0\n",
       "redKills                        0\n",
       "redDeaths                       0\n",
       "redAssists                      0\n",
       "redEliteMonsters                0\n",
       "redDragons                      0\n",
       "redHeralds                      0\n",
       "redTowersDestroyed              0\n",
       "redTotalGold                    0\n",
       "redAvgLevel                     0\n",
       "redTotalExperience              0\n",
       "redTotalMinionsKilled           0\n",
       "redTotalJungleMinionsKilled     0\n",
       "redGoldDiff                     0\n",
       "redExperienceDiff               0\n",
       "redCSPerMin                     0\n",
       "redGoldPerMin                   0\n",
       "dtype: int64"
      ]
     },
     "execution_count": 4,
     "metadata": {},
     "output_type": "execute_result"
    }
   ],
   "source": [
    "#check if there are any null values in the data\n",
    "df.isnull().sum()"
   ]
  },
  {
   "cell_type": "code",
   "execution_count": 5,
   "metadata": {},
   "outputs": [
    {
     "name": "stdout",
     "output_type": "stream",
     "text": [
      "<class 'pandas.core.frame.DataFrame'>\n",
      "RangeIndex: 9879 entries, 0 to 9878\n",
      "Data columns (total 40 columns):\n",
      "gameId                          9879 non-null int64\n",
      "blueWins                        9879 non-null int64\n",
      "blueWardsPlaced                 9879 non-null int64\n",
      "blueWardsDestroyed              9879 non-null int64\n",
      "blueFirstBlood                  9879 non-null int64\n",
      "blueKills                       9879 non-null int64\n",
      "blueDeaths                      9879 non-null int64\n",
      "blueAssists                     9879 non-null int64\n",
      "blueEliteMonsters               9879 non-null int64\n",
      "blueDragons                     9879 non-null int64\n",
      "blueHeralds                     9879 non-null int64\n",
      "blueTowersDestroyed             9879 non-null int64\n",
      "blueTotalGold                   9879 non-null int64\n",
      "blueAvgLevel                    9879 non-null float64\n",
      "blueTotalExperience             9879 non-null int64\n",
      "blueTotalMinionsKilled          9879 non-null int64\n",
      "blueTotalJungleMinionsKilled    9879 non-null int64\n",
      "blueGoldDiff                    9879 non-null int64\n",
      "blueExperienceDiff              9879 non-null int64\n",
      "blueCSPerMin                    9879 non-null float64\n",
      "blueGoldPerMin                  9879 non-null float64\n",
      "redWardsPlaced                  9879 non-null int64\n",
      "redWardsDestroyed               9879 non-null int64\n",
      "redFirstBlood                   9879 non-null int64\n",
      "redKills                        9879 non-null int64\n",
      "redDeaths                       9879 non-null int64\n",
      "redAssists                      9879 non-null int64\n",
      "redEliteMonsters                9879 non-null int64\n",
      "redDragons                      9879 non-null int64\n",
      "redHeralds                      9879 non-null int64\n",
      "redTowersDestroyed              9879 non-null int64\n",
      "redTotalGold                    9879 non-null int64\n",
      "redAvgLevel                     9879 non-null float64\n",
      "redTotalExperience              9879 non-null int64\n",
      "redTotalMinionsKilled           9879 non-null int64\n",
      "redTotalJungleMinionsKilled     9879 non-null int64\n",
      "redGoldDiff                     9879 non-null int64\n",
      "redExperienceDiff               9879 non-null int64\n",
      "redCSPerMin                     9879 non-null float64\n",
      "redGoldPerMin                   9879 non-null float64\n",
      "dtypes: float64(6), int64(34)\n",
      "memory usage: 3.0 MB\n"
     ]
    }
   ],
   "source": [
    "#checking the types of data\n",
    "df.info()"
   ]
  },
  {
   "cell_type": "code",
   "execution_count": 6,
   "metadata": {
    "scrolled": true
   },
   "outputs": [
    {
     "data": {
      "text/html": [
       "<div>\n",
       "<style scoped>\n",
       "    .dataframe tbody tr th:only-of-type {\n",
       "        vertical-align: middle;\n",
       "    }\n",
       "\n",
       "    .dataframe tbody tr th {\n",
       "        vertical-align: top;\n",
       "    }\n",
       "\n",
       "    .dataframe thead th {\n",
       "        text-align: right;\n",
       "    }\n",
       "</style>\n",
       "<table border=\"1\" class=\"dataframe\">\n",
       "  <thead>\n",
       "    <tr style=\"text-align: right;\">\n",
       "      <th></th>\n",
       "      <th>blueWins</th>\n",
       "      <th>blueWardsPlaced</th>\n",
       "      <th>blueWardsDestroyed</th>\n",
       "      <th>blueFirstBlood</th>\n",
       "      <th>blueKills</th>\n",
       "      <th>blueDeaths</th>\n",
       "      <th>blueDragons</th>\n",
       "      <th>blueHeralds</th>\n",
       "      <th>blueTowersDestroyed</th>\n",
       "      <th>blueTotalGold</th>\n",
       "      <th>blueTotalExperience</th>\n",
       "      <th>blueTotalMinionsKilled</th>\n",
       "      <th>blueTotalJungleMinionsKilled</th>\n",
       "    </tr>\n",
       "  </thead>\n",
       "  <tbody>\n",
       "    <tr>\n",
       "      <th>0</th>\n",
       "      <td>0</td>\n",
       "      <td>28</td>\n",
       "      <td>2</td>\n",
       "      <td>1</td>\n",
       "      <td>9</td>\n",
       "      <td>6</td>\n",
       "      <td>0</td>\n",
       "      <td>0</td>\n",
       "      <td>0</td>\n",
       "      <td>17210</td>\n",
       "      <td>17039</td>\n",
       "      <td>195</td>\n",
       "      <td>36</td>\n",
       "    </tr>\n",
       "    <tr>\n",
       "      <th>1</th>\n",
       "      <td>0</td>\n",
       "      <td>12</td>\n",
       "      <td>1</td>\n",
       "      <td>0</td>\n",
       "      <td>5</td>\n",
       "      <td>5</td>\n",
       "      <td>0</td>\n",
       "      <td>0</td>\n",
       "      <td>0</td>\n",
       "      <td>14712</td>\n",
       "      <td>16265</td>\n",
       "      <td>174</td>\n",
       "      <td>43</td>\n",
       "    </tr>\n",
       "    <tr>\n",
       "      <th>2</th>\n",
       "      <td>0</td>\n",
       "      <td>15</td>\n",
       "      <td>0</td>\n",
       "      <td>0</td>\n",
       "      <td>7</td>\n",
       "      <td>11</td>\n",
       "      <td>1</td>\n",
       "      <td>0</td>\n",
       "      <td>0</td>\n",
       "      <td>16113</td>\n",
       "      <td>16221</td>\n",
       "      <td>186</td>\n",
       "      <td>46</td>\n",
       "    </tr>\n",
       "    <tr>\n",
       "      <th>3</th>\n",
       "      <td>0</td>\n",
       "      <td>43</td>\n",
       "      <td>1</td>\n",
       "      <td>0</td>\n",
       "      <td>4</td>\n",
       "      <td>5</td>\n",
       "      <td>0</td>\n",
       "      <td>1</td>\n",
       "      <td>0</td>\n",
       "      <td>15157</td>\n",
       "      <td>17954</td>\n",
       "      <td>201</td>\n",
       "      <td>55</td>\n",
       "    </tr>\n",
       "    <tr>\n",
       "      <th>4</th>\n",
       "      <td>0</td>\n",
       "      <td>75</td>\n",
       "      <td>4</td>\n",
       "      <td>0</td>\n",
       "      <td>6</td>\n",
       "      <td>6</td>\n",
       "      <td>0</td>\n",
       "      <td>0</td>\n",
       "      <td>0</td>\n",
       "      <td>16400</td>\n",
       "      <td>18543</td>\n",
       "      <td>210</td>\n",
       "      <td>57</td>\n",
       "    </tr>\n",
       "    <tr>\n",
       "      <th>...</th>\n",
       "      <td>...</td>\n",
       "      <td>...</td>\n",
       "      <td>...</td>\n",
       "      <td>...</td>\n",
       "      <td>...</td>\n",
       "      <td>...</td>\n",
       "      <td>...</td>\n",
       "      <td>...</td>\n",
       "      <td>...</td>\n",
       "      <td>...</td>\n",
       "      <td>...</td>\n",
       "      <td>...</td>\n",
       "      <td>...</td>\n",
       "    </tr>\n",
       "    <tr>\n",
       "      <th>9874</th>\n",
       "      <td>1</td>\n",
       "      <td>17</td>\n",
       "      <td>2</td>\n",
       "      <td>1</td>\n",
       "      <td>7</td>\n",
       "      <td>4</td>\n",
       "      <td>1</td>\n",
       "      <td>0</td>\n",
       "      <td>0</td>\n",
       "      <td>17765</td>\n",
       "      <td>18967</td>\n",
       "      <td>211</td>\n",
       "      <td>69</td>\n",
       "    </tr>\n",
       "    <tr>\n",
       "      <th>9875</th>\n",
       "      <td>1</td>\n",
       "      <td>54</td>\n",
       "      <td>0</td>\n",
       "      <td>0</td>\n",
       "      <td>6</td>\n",
       "      <td>4</td>\n",
       "      <td>1</td>\n",
       "      <td>0</td>\n",
       "      <td>0</td>\n",
       "      <td>16238</td>\n",
       "      <td>19255</td>\n",
       "      <td>233</td>\n",
       "      <td>48</td>\n",
       "    </tr>\n",
       "    <tr>\n",
       "      <th>9876</th>\n",
       "      <td>0</td>\n",
       "      <td>23</td>\n",
       "      <td>1</td>\n",
       "      <td>0</td>\n",
       "      <td>6</td>\n",
       "      <td>7</td>\n",
       "      <td>0</td>\n",
       "      <td>0</td>\n",
       "      <td>0</td>\n",
       "      <td>15903</td>\n",
       "      <td>18032</td>\n",
       "      <td>210</td>\n",
       "      <td>45</td>\n",
       "    </tr>\n",
       "    <tr>\n",
       "      <th>9877</th>\n",
       "      <td>0</td>\n",
       "      <td>14</td>\n",
       "      <td>4</td>\n",
       "      <td>1</td>\n",
       "      <td>2</td>\n",
       "      <td>3</td>\n",
       "      <td>1</td>\n",
       "      <td>0</td>\n",
       "      <td>0</td>\n",
       "      <td>14459</td>\n",
       "      <td>17229</td>\n",
       "      <td>224</td>\n",
       "      <td>48</td>\n",
       "    </tr>\n",
       "    <tr>\n",
       "      <th>9878</th>\n",
       "      <td>1</td>\n",
       "      <td>18</td>\n",
       "      <td>0</td>\n",
       "      <td>1</td>\n",
       "      <td>6</td>\n",
       "      <td>6</td>\n",
       "      <td>0</td>\n",
       "      <td>0</td>\n",
       "      <td>0</td>\n",
       "      <td>16266</td>\n",
       "      <td>17321</td>\n",
       "      <td>207</td>\n",
       "      <td>44</td>\n",
       "    </tr>\n",
       "  </tbody>\n",
       "</table>\n",
       "<p>9879 rows × 13 columns</p>\n",
       "</div>"
      ],
      "text/plain": [
       "      blueWins  blueWardsPlaced  blueWardsDestroyed  blueFirstBlood  \\\n",
       "0            0               28                   2               1   \n",
       "1            0               12                   1               0   \n",
       "2            0               15                   0               0   \n",
       "3            0               43                   1               0   \n",
       "4            0               75                   4               0   \n",
       "...        ...              ...                 ...             ...   \n",
       "9874         1               17                   2               1   \n",
       "9875         1               54                   0               0   \n",
       "9876         0               23                   1               0   \n",
       "9877         0               14                   4               1   \n",
       "9878         1               18                   0               1   \n",
       "\n",
       "      blueKills  blueDeaths  blueDragons  blueHeralds  blueTowersDestroyed  \\\n",
       "0             9           6            0            0                    0   \n",
       "1             5           5            0            0                    0   \n",
       "2             7          11            1            0                    0   \n",
       "3             4           5            0            1                    0   \n",
       "4             6           6            0            0                    0   \n",
       "...         ...         ...          ...          ...                  ...   \n",
       "9874          7           4            1            0                    0   \n",
       "9875          6           4            1            0                    0   \n",
       "9876          6           7            0            0                    0   \n",
       "9877          2           3            1            0                    0   \n",
       "9878          6           6            0            0                    0   \n",
       "\n",
       "      blueTotalGold  blueTotalExperience  blueTotalMinionsKilled  \\\n",
       "0             17210                17039                     195   \n",
       "1             14712                16265                     174   \n",
       "2             16113                16221                     186   \n",
       "3             15157                17954                     201   \n",
       "4             16400                18543                     210   \n",
       "...             ...                  ...                     ...   \n",
       "9874          17765                18967                     211   \n",
       "9875          16238                19255                     233   \n",
       "9876          15903                18032                     210   \n",
       "9877          14459                17229                     224   \n",
       "9878          16266                17321                     207   \n",
       "\n",
       "      blueTotalJungleMinionsKilled  \n",
       "0                               36  \n",
       "1                               43  \n",
       "2                               46  \n",
       "3                               55  \n",
       "4                               57  \n",
       "...                            ...  \n",
       "9874                            69  \n",
       "9875                            48  \n",
       "9876                            45  \n",
       "9877                            48  \n",
       "9878                            44  \n",
       "\n",
       "[9879 rows x 13 columns]"
      ]
     },
     "execution_count": 6,
     "metadata": {},
     "output_type": "execute_result"
    }
   ],
   "source": [
    "#clean the dataset a little bit to avoid colinearity. Ex. blueKills and blue Assists, blueEliteMonsters and blueDragon, etc.\n",
    "#blue side data\n",
    "blue_df = df[['blueWins','blueWardsPlaced','blueWardsDestroyed','blueFirstBlood','blueKills','blueDeaths','blueDragons','blueHeralds','blueTowersDestroyed','blueTotalGold','blueTotalExperience','blueTotalMinionsKilled','blueTotalJungleMinionsKilled']]\n",
    "blue_df"
   ]
  },
  {
   "cell_type": "code",
   "execution_count": 7,
   "metadata": {},
   "outputs": [
    {
     "data": {
      "text/html": [
       "<div>\n",
       "<style scoped>\n",
       "    .dataframe tbody tr th:only-of-type {\n",
       "        vertical-align: middle;\n",
       "    }\n",
       "\n",
       "    .dataframe tbody tr th {\n",
       "        vertical-align: top;\n",
       "    }\n",
       "\n",
       "    .dataframe thead th {\n",
       "        text-align: right;\n",
       "    }\n",
       "</style>\n",
       "<table border=\"1\" class=\"dataframe\">\n",
       "  <thead>\n",
       "    <tr style=\"text-align: right;\">\n",
       "      <th></th>\n",
       "      <th>blueWins</th>\n",
       "      <th>redWardsPlaced</th>\n",
       "      <th>redWardsDestroyed</th>\n",
       "      <th>redFirstBlood</th>\n",
       "      <th>redKills</th>\n",
       "      <th>redDeaths</th>\n",
       "      <th>redDragons</th>\n",
       "      <th>redHeralds</th>\n",
       "      <th>redTowersDestroyed</th>\n",
       "      <th>redTotalGold</th>\n",
       "      <th>redTotalExperience</th>\n",
       "      <th>redTotalMinionsKilled</th>\n",
       "      <th>redTotalJungleMinionsKilled</th>\n",
       "    </tr>\n",
       "  </thead>\n",
       "  <tbody>\n",
       "    <tr>\n",
       "      <th>0</th>\n",
       "      <td>0</td>\n",
       "      <td>15</td>\n",
       "      <td>6</td>\n",
       "      <td>0</td>\n",
       "      <td>6</td>\n",
       "      <td>9</td>\n",
       "      <td>0</td>\n",
       "      <td>0</td>\n",
       "      <td>0</td>\n",
       "      <td>16567</td>\n",
       "      <td>17047</td>\n",
       "      <td>197</td>\n",
       "      <td>55</td>\n",
       "    </tr>\n",
       "    <tr>\n",
       "      <th>1</th>\n",
       "      <td>0</td>\n",
       "      <td>12</td>\n",
       "      <td>1</td>\n",
       "      <td>1</td>\n",
       "      <td>5</td>\n",
       "      <td>5</td>\n",
       "      <td>1</td>\n",
       "      <td>1</td>\n",
       "      <td>1</td>\n",
       "      <td>17620</td>\n",
       "      <td>17438</td>\n",
       "      <td>240</td>\n",
       "      <td>52</td>\n",
       "    </tr>\n",
       "    <tr>\n",
       "      <th>2</th>\n",
       "      <td>0</td>\n",
       "      <td>15</td>\n",
       "      <td>3</td>\n",
       "      <td>1</td>\n",
       "      <td>11</td>\n",
       "      <td>7</td>\n",
       "      <td>0</td>\n",
       "      <td>0</td>\n",
       "      <td>0</td>\n",
       "      <td>17285</td>\n",
       "      <td>17254</td>\n",
       "      <td>203</td>\n",
       "      <td>28</td>\n",
       "    </tr>\n",
       "    <tr>\n",
       "      <th>3</th>\n",
       "      <td>0</td>\n",
       "      <td>15</td>\n",
       "      <td>2</td>\n",
       "      <td>1</td>\n",
       "      <td>5</td>\n",
       "      <td>4</td>\n",
       "      <td>0</td>\n",
       "      <td>0</td>\n",
       "      <td>0</td>\n",
       "      <td>16478</td>\n",
       "      <td>17961</td>\n",
       "      <td>235</td>\n",
       "      <td>47</td>\n",
       "    </tr>\n",
       "    <tr>\n",
       "      <th>4</th>\n",
       "      <td>0</td>\n",
       "      <td>17</td>\n",
       "      <td>2</td>\n",
       "      <td>1</td>\n",
       "      <td>6</td>\n",
       "      <td>6</td>\n",
       "      <td>1</td>\n",
       "      <td>0</td>\n",
       "      <td>0</td>\n",
       "      <td>17404</td>\n",
       "      <td>18313</td>\n",
       "      <td>225</td>\n",
       "      <td>67</td>\n",
       "    </tr>\n",
       "    <tr>\n",
       "      <th>...</th>\n",
       "      <td>...</td>\n",
       "      <td>...</td>\n",
       "      <td>...</td>\n",
       "      <td>...</td>\n",
       "      <td>...</td>\n",
       "      <td>...</td>\n",
       "      <td>...</td>\n",
       "      <td>...</td>\n",
       "      <td>...</td>\n",
       "      <td>...</td>\n",
       "      <td>...</td>\n",
       "      <td>...</td>\n",
       "      <td>...</td>\n",
       "    </tr>\n",
       "    <tr>\n",
       "      <th>9874</th>\n",
       "      <td>1</td>\n",
       "      <td>46</td>\n",
       "      <td>3</td>\n",
       "      <td>0</td>\n",
       "      <td>4</td>\n",
       "      <td>7</td>\n",
       "      <td>0</td>\n",
       "      <td>0</td>\n",
       "      <td>0</td>\n",
       "      <td>15246</td>\n",
       "      <td>16498</td>\n",
       "      <td>229</td>\n",
       "      <td>34</td>\n",
       "    </tr>\n",
       "    <tr>\n",
       "      <th>9875</th>\n",
       "      <td>1</td>\n",
       "      <td>12</td>\n",
       "      <td>21</td>\n",
       "      <td>1</td>\n",
       "      <td>4</td>\n",
       "      <td>6</td>\n",
       "      <td>0</td>\n",
       "      <td>0</td>\n",
       "      <td>0</td>\n",
       "      <td>15456</td>\n",
       "      <td>18367</td>\n",
       "      <td>206</td>\n",
       "      <td>56</td>\n",
       "    </tr>\n",
       "    <tr>\n",
       "      <th>9876</th>\n",
       "      <td>0</td>\n",
       "      <td>14</td>\n",
       "      <td>0</td>\n",
       "      <td>1</td>\n",
       "      <td>7</td>\n",
       "      <td>6</td>\n",
       "      <td>1</td>\n",
       "      <td>0</td>\n",
       "      <td>0</td>\n",
       "      <td>18319</td>\n",
       "      <td>19909</td>\n",
       "      <td>261</td>\n",
       "      <td>60</td>\n",
       "    </tr>\n",
       "    <tr>\n",
       "      <th>9877</th>\n",
       "      <td>0</td>\n",
       "      <td>66</td>\n",
       "      <td>4</td>\n",
       "      <td>0</td>\n",
       "      <td>3</td>\n",
       "      <td>2</td>\n",
       "      <td>0</td>\n",
       "      <td>0</td>\n",
       "      <td>0</td>\n",
       "      <td>15298</td>\n",
       "      <td>18314</td>\n",
       "      <td>247</td>\n",
       "      <td>40</td>\n",
       "    </tr>\n",
       "    <tr>\n",
       "      <th>9878</th>\n",
       "      <td>1</td>\n",
       "      <td>9</td>\n",
       "      <td>2</td>\n",
       "      <td>0</td>\n",
       "      <td>6</td>\n",
       "      <td>6</td>\n",
       "      <td>1</td>\n",
       "      <td>0</td>\n",
       "      <td>0</td>\n",
       "      <td>15339</td>\n",
       "      <td>17379</td>\n",
       "      <td>201</td>\n",
       "      <td>46</td>\n",
       "    </tr>\n",
       "  </tbody>\n",
       "</table>\n",
       "<p>9879 rows × 13 columns</p>\n",
       "</div>"
      ],
      "text/plain": [
       "      blueWins  redWardsPlaced  redWardsDestroyed  redFirstBlood  redKills  \\\n",
       "0            0              15                  6              0         6   \n",
       "1            0              12                  1              1         5   \n",
       "2            0              15                  3              1        11   \n",
       "3            0              15                  2              1         5   \n",
       "4            0              17                  2              1         6   \n",
       "...        ...             ...                ...            ...       ...   \n",
       "9874         1              46                  3              0         4   \n",
       "9875         1              12                 21              1         4   \n",
       "9876         0              14                  0              1         7   \n",
       "9877         0              66                  4              0         3   \n",
       "9878         1               9                  2              0         6   \n",
       "\n",
       "      redDeaths  redDragons  redHeralds  redTowersDestroyed  redTotalGold  \\\n",
       "0             9           0           0                   0         16567   \n",
       "1             5           1           1                   1         17620   \n",
       "2             7           0           0                   0         17285   \n",
       "3             4           0           0                   0         16478   \n",
       "4             6           1           0                   0         17404   \n",
       "...         ...         ...         ...                 ...           ...   \n",
       "9874          7           0           0                   0         15246   \n",
       "9875          6           0           0                   0         15456   \n",
       "9876          6           1           0                   0         18319   \n",
       "9877          2           0           0                   0         15298   \n",
       "9878          6           1           0                   0         15339   \n",
       "\n",
       "      redTotalExperience  redTotalMinionsKilled  redTotalJungleMinionsKilled  \n",
       "0                  17047                    197                           55  \n",
       "1                  17438                    240                           52  \n",
       "2                  17254                    203                           28  \n",
       "3                  17961                    235                           47  \n",
       "4                  18313                    225                           67  \n",
       "...                  ...                    ...                          ...  \n",
       "9874               16498                    229                           34  \n",
       "9875               18367                    206                           56  \n",
       "9876               19909                    261                           60  \n",
       "9877               18314                    247                           40  \n",
       "9878               17379                    201                           46  \n",
       "\n",
       "[9879 rows x 13 columns]"
      ]
     },
     "execution_count": 7,
     "metadata": {},
     "output_type": "execute_result"
    }
   ],
   "source": [
    "#red side data\n",
    "red_df = df[['blueWins','redWardsPlaced','redWardsDestroyed','redFirstBlood','redKills','redDeaths','redDragons','redHeralds','redTowersDestroyed','redTotalGold','redTotalExperience','redTotalMinionsKilled','redTotalJungleMinionsKilled']]\n",
    "red_df"
   ]
  },
  {
   "cell_type": "code",
   "execution_count": 8,
   "metadata": {},
   "outputs": [
    {
     "data": {
      "image/png": "[encoded data removed]",
      "text/plain": [
       "<Figure size 1296x1296 with 2 Axes>"
      ]
     },
     "metadata": {},
     "output_type": "display_data"
    }
   ],
   "source": [
    "#use seaborn heat map to visualize correlation.\n",
    "#blue side data\n",
    "plt.figure(figsize=(18, 18))\n",
    "sns.heatmap(blue_df.corr(), cmap='YlGnBu', annot=True, fmt='.2f', vmin=-1);\n",
    "plt.savefig(\"blue_corr.png\")"
   ]
  },
  {
   "cell_type": "code",
   "execution_count": 9,
   "metadata": {},
   "outputs": [
    {
     "data": {
      "image/png": "[encoded data removed]",
      "text/plain": [
       "<Figure size 1296x1296 with 2 Axes>"
      ]
     },
     "metadata": {},
     "output_type": "display_data"
    }
   ],
   "source": [
    "#red side data\n",
    "plt.figure(figsize=(18, 18))\n",
    "sns.heatmap(red_df.corr(), cmap='YlGnBu', annot=True, fmt='.2f', vmin=-1);\n",
    "plt.savefig(\"red_corr.png\")"
   ]
  },
  {
   "cell_type": "code",
   "execution_count": 10,
   "metadata": {},
   "outputs": [
    {
     "data": {
      "text/plain": [
       "['blueTotalGold', 'blueTotalExperience']"
      ]
     },
     "execution_count": 10,
     "metadata": {},
     "output_type": "execute_result"
    }
   ],
   "source": [
    "#keep the columns that has higher correlation (positive and negative) with blue wins\n",
    "blue_corr_list = blue_df[blue_df.columns[1:]].apply(lambda x: x.corr(blue_df['blueWins']))\n",
    "blue_cols = []\n",
    "for col in blue_corr_list.index:\n",
    "    if (blue_corr_list[col]>0.35 or blue_corr_list[col]<-0.35):\n",
    "        blue_cols.append(col)\n",
    "blue_cols"
   ]
  },
  {
   "cell_type": "code",
   "execution_count": 11,
   "metadata": {},
   "outputs": [
    {
     "data": {
      "text/html": [
       "<div>\n",
       "<style scoped>\n",
       "    .dataframe tbody tr th:only-of-type {\n",
       "        vertical-align: middle;\n",
       "    }\n",
       "\n",
       "    .dataframe tbody tr th {\n",
       "        vertical-align: top;\n",
       "    }\n",
       "\n",
       "    .dataframe thead th {\n",
       "        text-align: right;\n",
       "    }\n",
       "</style>\n",
       "<table border=\"1\" class=\"dataframe\">\n",
       "  <thead>\n",
       "    <tr style=\"text-align: right;\">\n",
       "      <th></th>\n",
       "      <th>blueTotalGold</th>\n",
       "      <th>blueTotalExperience</th>\n",
       "    </tr>\n",
       "  </thead>\n",
       "  <tbody>\n",
       "    <tr>\n",
       "      <th>0</th>\n",
       "      <td>17210</td>\n",
       "      <td>17039</td>\n",
       "    </tr>\n",
       "    <tr>\n",
       "      <th>1</th>\n",
       "      <td>14712</td>\n",
       "      <td>16265</td>\n",
       "    </tr>\n",
       "    <tr>\n",
       "      <th>2</th>\n",
       "      <td>16113</td>\n",
       "      <td>16221</td>\n",
       "    </tr>\n",
       "    <tr>\n",
       "      <th>3</th>\n",
       "      <td>15157</td>\n",
       "      <td>17954</td>\n",
       "    </tr>\n",
       "    <tr>\n",
       "      <th>4</th>\n",
       "      <td>16400</td>\n",
       "      <td>18543</td>\n",
       "    </tr>\n",
       "  </tbody>\n",
       "</table>\n",
       "</div>"
      ],
      "text/plain": [
       "   blueTotalGold  blueTotalExperience\n",
       "0          17210                17039\n",
       "1          14712                16265\n",
       "2          16113                16221\n",
       "3          15157                17954\n",
       "4          16400                18543"
      ]
     },
     "execution_count": 11,
     "metadata": {},
     "output_type": "execute_result"
    }
   ],
   "source": [
    "blue_df_clean = blue_df[blue_cols]\n",
    "blue_df_clean.head()"
   ]
  },
  {
   "cell_type": "code",
   "execution_count": 12,
   "metadata": {},
   "outputs": [
    {
     "data": {
      "text/plain": [
       "['redTotalGold', 'redTotalExperience']"
      ]
     },
     "execution_count": 12,
     "metadata": {},
     "output_type": "execute_result"
    }
   ],
   "source": [
    "red_corr_list = red_df[red_df.columns[1:]].apply(lambda x: x.corr(red_df['blueWins']))\n",
    "red_cols = []\n",
    "for col in red_corr_list.index:\n",
    "    if (red_corr_list[col]>0.35 or red_corr_list[col]<-0.35):\n",
    "        red_cols.append(col)\n",
    "red_cols"
   ]
  },
  {
   "cell_type": "code",
   "execution_count": 13,
   "metadata": {},
   "outputs": [
    {
     "data": {
      "text/html": [
       "<div>\n",
       "<style scoped>\n",
       "    .dataframe tbody tr th:only-of-type {\n",
       "        vertical-align: middle;\n",
       "    }\n",
       "\n",
       "    .dataframe tbody tr th {\n",
       "        vertical-align: top;\n",
       "    }\n",
       "\n",
       "    .dataframe thead th {\n",
       "        text-align: right;\n",
       "    }\n",
       "</style>\n",
       "<table border=\"1\" class=\"dataframe\">\n",
       "  <thead>\n",
       "    <tr style=\"text-align: right;\">\n",
       "      <th></th>\n",
       "      <th>redTotalGold</th>\n",
       "      <th>redTotalExperience</th>\n",
       "    </tr>\n",
       "  </thead>\n",
       "  <tbody>\n",
       "    <tr>\n",
       "      <th>0</th>\n",
       "      <td>16567</td>\n",
       "      <td>17047</td>\n",
       "    </tr>\n",
       "    <tr>\n",
       "      <th>1</th>\n",
       "      <td>17620</td>\n",
       "      <td>17438</td>\n",
       "    </tr>\n",
       "    <tr>\n",
       "      <th>2</th>\n",
       "      <td>17285</td>\n",
       "      <td>17254</td>\n",
       "    </tr>\n",
       "    <tr>\n",
       "      <th>3</th>\n",
       "      <td>16478</td>\n",
       "      <td>17961</td>\n",
       "    </tr>\n",
       "    <tr>\n",
       "      <th>4</th>\n",
       "      <td>17404</td>\n",
       "      <td>18313</td>\n",
       "    </tr>\n",
       "  </tbody>\n",
       "</table>\n",
       "</div>"
      ],
      "text/plain": [
       "   redTotalGold  redTotalExperience\n",
       "0         16567               17047\n",
       "1         17620               17438\n",
       "2         17285               17254\n",
       "3         16478               17961\n",
       "4         17404               18313"
      ]
     },
     "execution_count": 13,
     "metadata": {},
     "output_type": "execute_result"
    }
   ],
   "source": [
    "red_df_clean = red_df[red_cols]\n",
    "red_df_clean.head()"
   ]
  },
  {
   "cell_type": "code",
   "execution_count": 14,
   "metadata": {},
   "outputs": [],
   "source": [
    "joined_cols = blue_cols + red_cols"
   ]
  },
  {
   "cell_type": "code",
   "execution_count": 15,
   "metadata": {},
   "outputs": [
    {
     "data": {
      "text/plain": [
       "['blueTotalGold', 'blueTotalExperience', 'redTotalGold', 'redTotalExperience']"
      ]
     },
     "execution_count": 15,
     "metadata": {},
     "output_type": "execute_result"
    }
   ],
   "source": [
    "joined_cols"
   ]
  },
  {
   "cell_type": "code",
   "execution_count": 16,
   "metadata": {},
   "outputs": [
    {
     "data": {
      "text/html": [
       "<div>\n",
       "<style scoped>\n",
       "    .dataframe tbody tr th:only-of-type {\n",
       "        vertical-align: middle;\n",
       "    }\n",
       "\n",
       "    .dataframe tbody tr th {\n",
       "        vertical-align: top;\n",
       "    }\n",
       "\n",
       "    .dataframe thead th {\n",
       "        text-align: right;\n",
       "    }\n",
       "</style>\n",
       "<table border=\"1\" class=\"dataframe\">\n",
       "  <thead>\n",
       "    <tr style=\"text-align: right;\">\n",
       "      <th></th>\n",
       "      <th>blueTotalGold</th>\n",
       "      <th>blueTotalExperience</th>\n",
       "      <th>redTotalGold</th>\n",
       "      <th>redTotalExperience</th>\n",
       "    </tr>\n",
       "  </thead>\n",
       "  <tbody>\n",
       "    <tr>\n",
       "      <th>0</th>\n",
       "      <td>17210</td>\n",
       "      <td>17039</td>\n",
       "      <td>16567</td>\n",
       "      <td>17047</td>\n",
       "    </tr>\n",
       "    <tr>\n",
       "      <th>1</th>\n",
       "      <td>14712</td>\n",
       "      <td>16265</td>\n",
       "      <td>17620</td>\n",
       "      <td>17438</td>\n",
       "    </tr>\n",
       "    <tr>\n",
       "      <th>2</th>\n",
       "      <td>16113</td>\n",
       "      <td>16221</td>\n",
       "      <td>17285</td>\n",
       "      <td>17254</td>\n",
       "    </tr>\n",
       "    <tr>\n",
       "      <th>3</th>\n",
       "      <td>15157</td>\n",
       "      <td>17954</td>\n",
       "      <td>16478</td>\n",
       "      <td>17961</td>\n",
       "    </tr>\n",
       "    <tr>\n",
       "      <th>4</th>\n",
       "      <td>16400</td>\n",
       "      <td>18543</td>\n",
       "      <td>17404</td>\n",
       "      <td>18313</td>\n",
       "    </tr>\n",
       "  </tbody>\n",
       "</table>\n",
       "</div>"
      ],
      "text/plain": [
       "   blueTotalGold  blueTotalExperience  redTotalGold  redTotalExperience\n",
       "0          17210                17039         16567               17047\n",
       "1          14712                16265         17620               17438\n",
       "2          16113                16221         17285               17254\n",
       "3          15157                17954         16478               17961\n",
       "4          16400                18543         17404               18313"
      ]
     },
     "execution_count": 16,
     "metadata": {},
     "output_type": "execute_result"
    }
   ],
   "source": [
    "df_clean = df[joined_cols]\n",
    "df_clean.head()"
   ]
  },
  {
   "cell_type": "markdown",
   "metadata": {},
   "source": [
    "# Creat a Train Test Split"
   ]
  },
  {
   "cell_type": "code",
   "execution_count": 17,
   "metadata": {},
   "outputs": [],
   "source": [
    "from sklearn.model_selection import train_test_split\n",
    "y = df[\"blueWins\"].values.reshape(-1, 1)\n",
    "target_names = [\"blueWins\", \"redWins\"]\n",
    "X = df_clean\n",
    "X_train, X_test, y_train, y_test = train_test_split(X, y, random_state = 1, stratify = y)"
   ]
  },
  {
   "cell_type": "code",
   "execution_count": 18,
   "metadata": {},
   "outputs": [
    {
     "data": {
      "text/plain": [
       "((7409, 4), (2470, 4), (7409, 1), (2470, 1))"
      ]
     },
     "execution_count": 18,
     "metadata": {},
     "output_type": "execute_result"
    }
   ],
   "source": [
    "X_train.shape,X_test.shape,y_train.shape, y_test.shape"
   ]
  },
  {
   "cell_type": "markdown",
   "metadata": {},
   "source": [
    "# Pre-processing"
   ]
  },
  {
   "cell_type": "code",
   "execution_count": 19,
   "metadata": {},
   "outputs": [],
   "source": [
    "# Scale data\n",
    "# y scale not needed as there are only 1 (blueWin) or 0 (redWin)\n",
    "from sklearn.preprocessing import MinMaxScaler\n",
    "X_scaler = MinMaxScaler().fit(X_train)\n",
    "\n",
    "X_train_scaled = X_scaler.transform(X_train)\n",
    "X_test_scaled = X_scaler.transform(X_test)"
   ]
  },
  {
   "cell_type": "markdown",
   "metadata": {},
   "source": [
    "# Train the Model (Linear)"
   ]
  },
  {
   "cell_type": "code",
   "execution_count": 20,
   "metadata": {},
   "outputs": [
    {
     "data": {
      "text/plain": [
       "LinearRegression(copy_X=True, fit_intercept=True, n_jobs=None, normalize=False)"
      ]
     },
     "execution_count": 20,
     "metadata": {},
     "output_type": "execute_result"
    }
   ],
   "source": [
    "from sklearn.linear_model import LinearRegression\n",
    "linear_model = LinearRegression()\n",
    "linear_model.fit(X_train_scaled, y_train)"
   ]
  },
  {
   "cell_type": "code",
   "execution_count": 21,
   "metadata": {},
   "outputs": [
    {
     "name": "stdout",
     "output_type": "stream",
     "text": [
      "Training Data Score: 0.27062070214772815\n",
      "Testing Data Score: 0.2540213645254422\n"
     ]
    }
   ],
   "source": [
    "print(f\"Training Data Score: {linear_model.score(X_train_scaled, y_train)}\")\n",
    "print(f\"Testing Data Score: {linear_model.score(X_test_scaled, y_test)}\")"
   ]
  },
  {
   "cell_type": "markdown",
   "metadata": {},
   "source": [
    "# Train the Model (SVM)"
   ]
  },
  {
   "cell_type": "code",
   "execution_count": 22,
   "metadata": {},
   "outputs": [
    {
     "data": {
      "text/plain": [
       "SVC(C=1.0, break_ties=False, cache_size=200, class_weight=None, coef0=0.0,\n",
       "    decision_function_shape='ovr', degree=3, gamma='scale', kernel='linear',\n",
       "    max_iter=-1, probability=False, random_state=None, shrinking=True,\n",
       "    tol=0.001, verbose=False)"
      ]
     },
     "execution_count": 22,
     "metadata": {},
     "output_type": "execute_result"
    }
   ],
   "source": [
    "#SVM Model\n",
    "from sklearn.svm import SVC\n",
    "svm_model = SVC(kernel = 'linear')\n",
    "svm_model.fit(X_train_scaled, y_train)"
   ]
  },
  {
   "cell_type": "code",
   "execution_count": 23,
   "metadata": {
    "scrolled": true
   },
   "outputs": [
    {
     "name": "stdout",
     "output_type": "stream",
     "text": [
      "Training Data Score: 0.7303279794844109\n",
      "Testing Data Score: 0.7186234817813765\n"
     ]
    }
   ],
   "source": [
    "print(f\"Training Data Score: {svm_model.score(X_train_scaled, y_train)}\")\n",
    "print(f\"Testing Data Score: {svm_model.score(X_test_scaled, y_test)}\")"
   ]
  },
  {
   "cell_type": "markdown",
   "metadata": {},
   "source": [
    "# Hyperparameter Tuning (SVM)\n",
    "#### Use GridSearchCV to tune the model's parameters"
   ]
  },
  {
   "cell_type": "code",
   "execution_count": 24,
   "metadata": {},
   "outputs": [],
   "source": [
    "# Create the GridSearchCV model\n",
    "from sklearn.model_selection import GridSearchCV\n",
    "svm_param_grid = {'C':[1,5,10], 'gamma':[0.00001, 0.0001, 0.001]}\n",
    "svm_grid = GridSearchCV(svm_model, svm_param_grid)"
   ]
  },
  {
   "cell_type": "code",
   "execution_count": 25,
   "metadata": {
    "scrolled": true
   },
   "outputs": [
    {
     "data": {
      "text/plain": [
       "GridSearchCV(cv=None, error_score=nan,\n",
       "             estimator=SVC(C=1.0, break_ties=False, cache_size=200,\n",
       "                           class_weight=None, coef0=0.0,\n",
       "                           decision_function_shape='ovr', degree=3,\n",
       "                           gamma='scale', kernel='linear', max_iter=-1,\n",
       "                           probability=False, random_state=None, shrinking=True,\n",
       "                           tol=0.001, verbose=False),\n",
       "             iid='deprecated', n_jobs=None,\n",
       "             param_grid={'C': [1, 5, 10], 'gamma': [1e-05, 0.0001, 0.001]},\n",
       "             pre_dispatch='2*n_jobs', refit=True, return_train_score=False,\n",
       "             scoring=None, verbose=0)"
      ]
     },
     "execution_count": 25,
     "metadata": {},
     "output_type": "execute_result"
    }
   ],
   "source": [
    "# Train the model with GridSearch\n",
    "svm_grid.fit(X_train_scaled, y_train)"
   ]
  },
  {
   "cell_type": "code",
   "execution_count": 26,
   "metadata": {},
   "outputs": [
    {
     "name": "stdout",
     "output_type": "stream",
     "text": [
      "{'C': 1, 'gamma': 1e-05}\n",
      "0.7315424982755022\n"
     ]
    }
   ],
   "source": [
    "print(svm_grid.best_params_)\n",
    "print(svm_grid.best_score_)"
   ]
  },
  {
   "cell_type": "code",
   "execution_count": 27,
   "metadata": {},
   "outputs": [],
   "source": [
    "svm_predictions = svm_grid.predict(X_test_scaled)"
   ]
  },
  {
   "cell_type": "code",
   "execution_count": 28,
   "metadata": {},
   "outputs": [
    {
     "name": "stdout",
     "output_type": "stream",
     "text": [
      "              precision    recall  f1-score   support\n",
      "\n",
      "    blueWins       0.72      0.71      0.72      1237\n",
      "     redWins       0.72      0.72      0.72      1233\n",
      "\n",
      "    accuracy                           0.72      2470\n",
      "   macro avg       0.72      0.72      0.72      2470\n",
      "weighted avg       0.72      0.72      0.72      2470\n",
      "\n"
     ]
    }
   ],
   "source": [
    "# Calculate classification report\n",
    "from sklearn.metrics import classification_report\n",
    "print(classification_report(y_test, svm_predictions,\n",
    "                            target_names = [\"blueWins\", \"redWins\"]))"
   ]
  },
  {
   "cell_type": "markdown",
   "metadata": {},
   "source": [
    "# Train the Model (LogisticRegression)"
   ]
  },
  {
   "cell_type": "code",
   "execution_count": 29,
   "metadata": {},
   "outputs": [
    {
     "data": {
      "text/plain": [
       "LogisticRegression(C=1.0, class_weight=None, dual=False, fit_intercept=True,\n",
       "                   intercept_scaling=1, l1_ratio=None, max_iter=1000,\n",
       "                   multi_class='auto', n_jobs=None, penalty='l2',\n",
       "                   random_state=None, solver='lbfgs', tol=0.0001, verbose=0,\n",
       "                   warm_start=False)"
      ]
     },
     "execution_count": 29,
     "metadata": {},
     "output_type": "execute_result"
    }
   ],
   "source": [
    "from sklearn.linear_model import LogisticRegression\n",
    "logistic_model = LogisticRegression(max_iter = 1000)\n",
    "logistic_model.fit(X_train_scaled, y_train)"
   ]
  },
  {
   "cell_type": "code",
   "execution_count": 30,
   "metadata": {},
   "outputs": [
    {
     "name": "stdout",
     "output_type": "stream",
     "text": [
      "Training Data Score: 0.7303279794844109\n",
      "Testing Data Score: 0.7190283400809716\n"
     ]
    }
   ],
   "source": [
    "print(f\"Training Data Score: {logistic_model.score(X_train_scaled, y_train)}\")\n",
    "print(f\"Testing Data Score: {logistic_model.score(X_test_scaled, y_test)}\")"
   ]
  },
  {
   "cell_type": "markdown",
   "metadata": {},
   "source": [
    "# Hyperparameter Tuning (LogisticRegression)\n",
    "#### Use GridSearchCV to tune the model's parameters"
   ]
  },
  {
   "cell_type": "code",
   "execution_count": 31,
   "metadata": {},
   "outputs": [],
   "source": [
    "logistic_param_grid = {'C':[1,2,3,4,5,6,7,8,9,10], 'penalty':['l2','none']}\n",
    "logistic_grid = GridSearchCV(logistic_model, logistic_param_grid)"
   ]
  },
  {
   "cell_type": "code",
   "execution_count": 32,
   "metadata": {
    "scrolled": true
   },
   "outputs": [
    {
     "data": {
      "text/plain": [
       "GridSearchCV(cv=None, error_score=nan,\n",
       "             estimator=LogisticRegression(C=1.0, class_weight=None, dual=False,\n",
       "                                          fit_intercept=True,\n",
       "                                          intercept_scaling=1, l1_ratio=None,\n",
       "                                          max_iter=1000, multi_class='auto',\n",
       "                                          n_jobs=None, penalty='l2',\n",
       "                                          random_state=None, solver='lbfgs',\n",
       "                                          tol=0.0001, verbose=0,\n",
       "                                          warm_start=False),\n",
       "             iid='deprecated', n_jobs=None,\n",
       "             param_grid={'C': [1, 2, 3, 4, 5, 6, 7, 8, 9, 10],\n",
       "                         'penalty': ['l2', 'none']},\n",
       "             pre_dispatch='2*n_jobs', refit=True, return_train_score=False,\n",
       "             scoring=None, verbose=0)"
      ]
     },
     "execution_count": 32,
     "metadata": {},
     "output_type": "execute_result"
    }
   ],
   "source": [
    "logistic_grid.fit(X_train_scaled, y_train)"
   ]
  },
  {
   "cell_type": "code",
   "execution_count": 33,
   "metadata": {},
   "outputs": [
    {
     "name": "stdout",
     "output_type": "stream",
     "text": [
      "{'C': 1, 'penalty': 'l2'}\n",
      "0.7308678255655761\n"
     ]
    }
   ],
   "source": [
    "print(logistic_grid.best_params_)\n",
    "print(logistic_grid.best_score_)"
   ]
  },
  {
   "cell_type": "code",
   "execution_count": 34,
   "metadata": {},
   "outputs": [],
   "source": [
    "logistic_predictions = logistic_grid.predict(X_test_scaled)"
   ]
  },
  {
   "cell_type": "code",
   "execution_count": 35,
   "metadata": {},
   "outputs": [
    {
     "data": {
      "text/plain": [
       "array([0, 0, 0, ..., 1, 1, 1], dtype=int64)"
      ]
     },
     "execution_count": 35,
     "metadata": {},
     "output_type": "execute_result"
    }
   ],
   "source": [
    "logistic_predictions"
   ]
  },
  {
   "cell_type": "code",
   "execution_count": 36,
   "metadata": {},
   "outputs": [
    {
     "name": "stdout",
     "output_type": "stream",
     "text": [
      "              precision    recall  f1-score   support\n",
      "\n",
      "    blueWins       0.72      0.72      0.72      1237\n",
      "     redWins       0.72      0.72      0.72      1233\n",
      "\n",
      "    accuracy                           0.72      2470\n",
      "   macro avg       0.72      0.72      0.72      2470\n",
      "weighted avg       0.72      0.72      0.72      2470\n",
      "\n"
     ]
    }
   ],
   "source": [
    "# Calculate classification report\n",
    "print(classification_report(y_test, logistic_predictions,\n",
    "                            target_names = [\"blueWins\", \"redWins\"]))"
   ]
  },
  {
   "cell_type": "markdown",
   "metadata": {},
   "source": [
    "# KNN"
   ]
  },
  {
   "cell_type": "code",
   "execution_count": 37,
   "metadata": {},
   "outputs": [
    {
     "name": "stdout",
     "output_type": "stream",
     "text": [
      "k: 1, Train/Test Score: 1.000/0.642\n",
      "k: 3, Train/Test Score: 0.820/0.671\n",
      "k: 5, Train/Test Score: 0.780/0.683\n",
      "k: 7, Train/Test Score: 0.763/0.699\n",
      "k: 9, Train/Test Score: 0.761/0.703\n",
      "k: 11, Train/Test Score: 0.751/0.705\n",
      "k: 13, Train/Test Score: 0.753/0.708\n",
      "k: 15, Train/Test Score: 0.746/0.706\n",
      "k: 17, Train/Test Score: 0.747/0.709\n",
      "k: 19, Train/Test Score: 0.745/0.709\n",
      "k: 21, Train/Test Score: 0.742/0.709\n",
      "k: 23, Train/Test Score: 0.742/0.706\n",
      "k: 25, Train/Test Score: 0.739/0.713\n",
      "k: 27, Train/Test Score: 0.737/0.712\n",
      "k: 29, Train/Test Score: 0.739/0.715\n",
      "k: 31, Train/Test Score: 0.742/0.713\n",
      "k: 33, Train/Test Score: 0.740/0.713\n",
      "k: 35, Train/Test Score: 0.739/0.712\n",
      "k: 37, Train/Test Score: 0.737/0.713\n",
      "k: 39, Train/Test Score: 0.737/0.717\n",
      "k: 41, Train/Test Score: 0.738/0.719\n",
      "k: 43, Train/Test Score: 0.736/0.717\n",
      "k: 45, Train/Test Score: 0.736/0.715\n",
      "k: 47, Train/Test Score: 0.734/0.716\n",
      "k: 49, Train/Test Score: 0.735/0.718\n"
     ]
    },
    {
     "data": {
      "image/png": "[encoded data removed]",
      "text/plain": [
       "<Figure size 432x288 with 1 Axes>"
      ]
     },
     "metadata": {},
     "output_type": "display_data"
    }
   ],
   "source": [
    "from sklearn.neighbors import KNeighborsClassifier\n",
    "\n",
    "train_scores = []\n",
    "test_scores = []\n",
    "for k in range(1, 50, 2):\n",
    "    knn = KNeighborsClassifier(n_neighbors=k)\n",
    "    knn.fit(X_train_scaled, y_train)\n",
    "    train_score = knn.score(X_train_scaled, y_train)\n",
    "    test_score = knn.score(X_test_scaled, y_test)\n",
    "    train_scores.append(train_score)\n",
    "    test_scores.append(test_score)\n",
    "    print(f\"k: {k}, Train/Test Score: {train_score:.3f}/{test_score:.3f}\")\n",
    "    \n",
    "    \n",
    "plt.plot(range(1, 50, 2), train_scores, marker='o')\n",
    "plt.plot(range(1, 50, 2), test_scores, marker=\"x\")\n",
    "plt.xlabel(\"k neighbors\")\n",
    "plt.ylabel(\"Testing accuracy Score\")\n",
    "plt.show()"
   ]
  },
  {
   "cell_type": "markdown",
   "metadata": {},
   "source": [
    "# Combining KNN with GridSearchCV"
   ]
  },
  {
   "cell_type": "code",
   "execution_count": 38,
   "metadata": {},
   "outputs": [
    {
     "name": "stdout",
     "output_type": "stream",
     "text": [
      "tuned hypermeter =  {'n_neighbors': 45}\n",
      "tuned hypermeter =  0.7231754021227705\n"
     ]
    }
   ],
   "source": [
    "knn_grid = {\"n_neighbors\":np.arange(1,50)}\n",
    "\n",
    "knn = KNeighborsClassifier()\n",
    "\n",
    "knn_cv=GridSearchCV(knn,knn_grid,cv=10)\n",
    "\n",
    "knn_cv.fit(X_train_scaled,y_train)\n",
    "\n",
    "print(\"tuned hypermeter = \",knn_cv.best_params_)\n",
    "\n",
    "print(\"tuned hypermeter = \",knn_cv.best_score_)"
   ]
  },
  {
   "cell_type": "code",
   "execution_count": 39,
   "metadata": {},
   "outputs": [],
   "source": [
    "knn_predictions = knn_cv.predict(X_test_scaled)"
   ]
  },
  {
   "cell_type": "code",
   "execution_count": 40,
   "metadata": {},
   "outputs": [
    {
     "name": "stdout",
     "output_type": "stream",
     "text": [
      "              precision    recall  f1-score   support\n",
      "\n",
      "    blueWins       0.72      0.71      0.71      1237\n",
      "     redWins       0.71      0.72      0.72      1233\n",
      "\n",
      "    accuracy                           0.71      2470\n",
      "   macro avg       0.72      0.71      0.71      2470\n",
      "weighted avg       0.72      0.71      0.71      2470\n",
      "\n"
     ]
    }
   ],
   "source": [
    "# Calculate classification report\n",
    "print(classification_report(y_test, knn_predictions,\n",
    "                            target_names = [\"blueWins\", \"redWins\"]))"
   ]
  },
  {
   "cell_type": "markdown",
   "metadata": {},
   "source": [
    "# RandomForestClassfier"
   ]
  },
  {
   "cell_type": "code",
   "execution_count": 41,
   "metadata": {},
   "outputs": [
    {
     "data": {
      "text/plain": [
       "0.697165991902834"
      ]
     },
     "execution_count": 41,
     "metadata": {},
     "output_type": "execute_result"
    }
   ],
   "source": [
    "from sklearn.ensemble import RandomForestClassifier\n",
    "rf = RandomForestClassifier(n_estimators=200)\n",
    "rf = rf.fit(X_train_scaled, y_train)\n",
    "rf.score(X_test_scaled, y_test)"
   ]
  },
  {
   "cell_type": "code",
   "execution_count": 42,
   "metadata": {},
   "outputs": [
    {
     "name": "stdout",
     "output_type": "stream",
     "text": [
      "Fitting 10 folds for each of 5 candidates, totalling 50 fits\n"
     ]
    },
    {
     "name": "stderr",
     "output_type": "stream",
     "text": [
      "[Parallel(n_jobs=-1)]: Using backend LokyBackend with 8 concurrent workers.\n",
      "[Parallel(n_jobs=-1)]: Done  34 tasks      | elapsed:   20.1s\n",
      "[Parallel(n_jobs=-1)]: Done  50 out of  50 | elapsed:   35.7s finished\n"
     ]
    },
    {
     "name": "stdout",
     "output_type": "stream",
     "text": [
      "tuned hypermeter =  {'n_estimators': 200}\n",
      "tuned hypermeter =  0.7107546412809571\n"
     ]
    }
   ],
   "source": [
    "from sklearn.model_selection import GridSearchCV\n",
    "from sklearn.ensemble import RandomForestClassifier \n",
    "grid = {\"n_estimators\":[100,200,300,400,500]}\n",
    "rf = RandomForestClassifier()\n",
    "rf_cv=GridSearchCV(rf,grid,cv=10,n_jobs = -1,verbose = 1)\n",
    "rf_cv.fit(X_train_scaled,y_train)\n",
    "print(\"tuned hypermeter = \",rf_cv.best_params_)\n",
    "\n",
    "print(\"tuned hypermeter = \",rf_cv.best_score_)"
   ]
  },
  {
   "cell_type": "code",
   "execution_count": 43,
   "metadata": {},
   "outputs": [],
   "source": [
    "rf_predictions = rf_cv.predict(X_test_scaled)"
   ]
  },
  {
   "cell_type": "code",
   "execution_count": 44,
   "metadata": {},
   "outputs": [
    {
     "name": "stdout",
     "output_type": "stream",
     "text": [
      "              precision    recall  f1-score   support\n",
      "\n",
      "    blueWins       0.71      0.70      0.70      1237\n",
      "     redWins       0.70      0.71      0.70      1233\n",
      "\n",
      "    accuracy                           0.70      2470\n",
      "   macro avg       0.70      0.70      0.70      2470\n",
      "weighted avg       0.70      0.70      0.70      2470\n",
      "\n"
     ]
    }
   ],
   "source": [
    "# Calculate classification report\n",
    "print(classification_report(y_test, rf_predictions,\n",
    "                            target_names = [\"blueWins\", \"redWins\"]))"
   ]
  },
  {
   "cell_type": "markdown",
   "metadata": {},
   "source": [
    "# Decision Trees"
   ]
  },
  {
   "cell_type": "code",
   "execution_count": 45,
   "metadata": {},
   "outputs": [
    {
     "data": {
      "text/plain": [
       "0.6299595141700405"
      ]
     },
     "execution_count": 45,
     "metadata": {},
     "output_type": "execute_result"
    }
   ],
   "source": [
    "from sklearn import tree\n",
    "clf = tree.DecisionTreeClassifier()\n",
    "clf = clf.fit(X_train_scaled, y_train)\n",
    "clf.score(X_test_scaled, y_test)"
   ]
  },
  {
   "cell_type": "markdown",
   "metadata": {},
   "source": [
    "# Neural Networks with Keras"
   ]
  },
  {
   "cell_type": "code",
   "execution_count": 46,
   "metadata": {},
   "outputs": [],
   "source": [
    "from tensorflow.keras.utils import to_categorical\n",
    "\n",
    "# One-hot encoding\n",
    "y_train_categorical = to_categorical(y_train)\n",
    "y_test_categorical = to_categorical(y_test)"
   ]
  },
  {
   "cell_type": "code",
   "execution_count": 47,
   "metadata": {},
   "outputs": [],
   "source": [
    "from tensorflow.keras.models import Sequential\n",
    "from tensorflow.keras.layers import Dense\n",
    "\n",
    "model = Sequential()\n",
    "\n",
    "number_inputs = 4\n",
    "number_hidden_nodes = 10\n",
    "\n",
    "model.add(Dense(units=number_hidden_nodes,\n",
    "                activation='relu', input_dim=number_inputs))\n",
    "\n",
    "number_classes = 2\n",
    "model.add(Dense(units=number_classes, activation='softmax'))"
   ]
  },
  {
   "cell_type": "code",
   "execution_count": 48,
   "metadata": {},
   "outputs": [
    {
     "name": "stdout",
     "output_type": "stream",
     "text": [
      "Model: \"sequential\"\n",
      "_________________________________________________________________\n",
      "Layer (type)                 Output Shape              Param #   \n",
      "=================================================================\n",
      "dense (Dense)                (None, 10)                50        \n",
      "_________________________________________________________________\n",
      "dense_1 (Dense)              (None, 2)                 22        \n",
      "=================================================================\n",
      "Total params: 72\n",
      "Trainable params: 72\n",
      "Non-trainable params: 0\n",
      "_________________________________________________________________\n"
     ]
    }
   ],
   "source": [
    "model.summary()"
   ]
  },
  {
   "cell_type": "code",
   "execution_count": 49,
   "metadata": {},
   "outputs": [],
   "source": [
    "#Compile the Model\n",
    "model.compile(optimizer='adam',\n",
    "              loss='categorical_crossentropy',\n",
    "              metrics=['accuracy'])"
   ]
  },
  {
   "cell_type": "code",
   "execution_count": 50,
   "metadata": {
    "scrolled": true
   },
   "outputs": [
    {
     "name": "stdout",
     "output_type": "stream",
     "text": [
      "Train on 7409 samples\n",
      "Epoch 1/100\n",
      "7409/7409 - 1s - loss: 0.6836 - accuracy: 0.6183\n",
      "Epoch 2/100\n",
      "7409/7409 - 0s - loss: 0.6296 - accuracy: 0.7206\n",
      "Epoch 3/100\n",
      "7409/7409 - 0s - loss: 0.5850 - accuracy: 0.7259\n",
      "Epoch 4/100\n",
      "7409/7409 - 0s - loss: 0.5550 - accuracy: 0.7275\n",
      "Epoch 5/100\n",
      "7409/7409 - 0s - loss: 0.5428 - accuracy: 0.7275\n",
      "Epoch 6/100\n",
      "7409/7409 - 0s - loss: 0.5377 - accuracy: 0.7317\n",
      "Epoch 7/100\n",
      "7409/7409 - 0s - loss: 0.5359 - accuracy: 0.7315\n",
      "Epoch 8/100\n",
      "7409/7409 - 0s - loss: 0.5348 - accuracy: 0.7309\n",
      "Epoch 9/100\n",
      "7409/7409 - 0s - loss: 0.5346 - accuracy: 0.7307\n",
      "Epoch 10/100\n",
      "7409/7409 - 0s - loss: 0.5342 - accuracy: 0.7290\n",
      "Epoch 11/100\n",
      "7409/7409 - 0s - loss: 0.5347 - accuracy: 0.7271\n",
      "Epoch 12/100\n",
      "7409/7409 - 0s - loss: 0.5340 - accuracy: 0.7284\n",
      "Epoch 13/100\n",
      "7409/7409 - 0s - loss: 0.5333 - accuracy: 0.7298\n",
      "Epoch 14/100\n",
      "7409/7409 - 0s - loss: 0.5334 - accuracy: 0.7297\n",
      "Epoch 15/100\n",
      "7409/7409 - 0s - loss: 0.5334 - accuracy: 0.7297\n",
      "Epoch 16/100\n",
      "7409/7409 - 0s - loss: 0.5336 - accuracy: 0.7301\n",
      "Epoch 17/100\n",
      "7409/7409 - 0s - loss: 0.5334 - accuracy: 0.7292\n",
      "Epoch 18/100\n",
      "7409/7409 - 0s - loss: 0.5333 - accuracy: 0.7279\n",
      "Epoch 19/100\n",
      "7409/7409 - 0s - loss: 0.5339 - accuracy: 0.7310\n",
      "Epoch 20/100\n",
      "7409/7409 - 0s - loss: 0.5334 - accuracy: 0.7278\n",
      "Epoch 21/100\n",
      "7409/7409 - 0s - loss: 0.5330 - accuracy: 0.7288\n",
      "Epoch 22/100\n",
      "7409/7409 - 0s - loss: 0.5331 - accuracy: 0.7307\n",
      "Epoch 23/100\n",
      "7409/7409 - 0s - loss: 0.5334 - accuracy: 0.7302\n",
      "Epoch 24/100\n",
      "7409/7409 - 0s - loss: 0.5335 - accuracy: 0.7276\n",
      "Epoch 25/100\n",
      "7409/7409 - 0s - loss: 0.5332 - accuracy: 0.7286\n",
      "Epoch 26/100\n",
      "7409/7409 - 0s - loss: 0.5330 - accuracy: 0.7325\n",
      "Epoch 27/100\n",
      "7409/7409 - 0s - loss: 0.5330 - accuracy: 0.7294\n",
      "Epoch 28/100\n",
      "7409/7409 - 0s - loss: 0.5331 - accuracy: 0.7301\n",
      "Epoch 29/100\n",
      "7409/7409 - 0s - loss: 0.5334 - accuracy: 0.7298\n",
      "Epoch 30/100\n",
      "7409/7409 - 0s - loss: 0.5328 - accuracy: 0.7270\n",
      "Epoch 31/100\n",
      "7409/7409 - 0s - loss: 0.5335 - accuracy: 0.7292\n",
      "Epoch 32/100\n",
      "7409/7409 - 0s - loss: 0.5332 - accuracy: 0.7291\n",
      "Epoch 33/100\n",
      "7409/7409 - 0s - loss: 0.5330 - accuracy: 0.7299\n",
      "Epoch 34/100\n",
      "7409/7409 - 0s - loss: 0.5331 - accuracy: 0.7271\n",
      "Epoch 35/100\n",
      "7409/7409 - 0s - loss: 0.5330 - accuracy: 0.7294\n",
      "Epoch 36/100\n",
      "7409/7409 - 0s - loss: 0.5334 - accuracy: 0.7297\n",
      "Epoch 37/100\n",
      "7409/7409 - 0s - loss: 0.5332 - accuracy: 0.7283\n",
      "Epoch 38/100\n",
      "7409/7409 - 0s - loss: 0.5329 - accuracy: 0.7272\n",
      "Epoch 39/100\n",
      "7409/7409 - 0s - loss: 0.5331 - accuracy: 0.7280\n",
      "Epoch 40/100\n",
      "7409/7409 - 0s - loss: 0.5330 - accuracy: 0.7284\n",
      "Epoch 41/100\n",
      "7409/7409 - 0s - loss: 0.5330 - accuracy: 0.7280\n",
      "Epoch 42/100\n",
      "7409/7409 - 0s - loss: 0.5336 - accuracy: 0.7305\n",
      "Epoch 43/100\n",
      "7409/7409 - 0s - loss: 0.5332 - accuracy: 0.7279\n",
      "Epoch 44/100\n",
      "7409/7409 - 0s - loss: 0.5329 - accuracy: 0.7307\n",
      "Epoch 45/100\n",
      "7409/7409 - 0s - loss: 0.5334 - accuracy: 0.7256\n",
      "Epoch 46/100\n",
      "7409/7409 - 0s - loss: 0.5332 - accuracy: 0.7280\n",
      "Epoch 47/100\n",
      "7409/7409 - 0s - loss: 0.5328 - accuracy: 0.7279\n",
      "Epoch 48/100\n",
      "7409/7409 - 0s - loss: 0.5329 - accuracy: 0.7292\n",
      "Epoch 49/100\n",
      "7409/7409 - 0s - loss: 0.5331 - accuracy: 0.7284\n",
      "Epoch 50/100\n",
      "7409/7409 - 0s - loss: 0.5331 - accuracy: 0.7294\n",
      "Epoch 51/100\n",
      "7409/7409 - 0s - loss: 0.5331 - accuracy: 0.7291\n",
      "Epoch 52/100\n",
      "7409/7409 - 0s - loss: 0.5331 - accuracy: 0.7310\n",
      "Epoch 53/100\n",
      "7409/7409 - 0s - loss: 0.5330 - accuracy: 0.7292\n",
      "Epoch 54/100\n",
      "7409/7409 - 0s - loss: 0.5334 - accuracy: 0.7303\n",
      "Epoch 55/100\n",
      "7409/7409 - 0s - loss: 0.5327 - accuracy: 0.7297\n",
      "Epoch 56/100\n",
      "7409/7409 - 0s - loss: 0.5325 - accuracy: 0.7287\n",
      "Epoch 57/100\n",
      "7409/7409 - 0s - loss: 0.5330 - accuracy: 0.7286\n",
      "Epoch 58/100\n",
      "7409/7409 - 0s - loss: 0.5333 - accuracy: 0.7298\n",
      "Epoch 59/100\n",
      "7409/7409 - 0s - loss: 0.5330 - accuracy: 0.7294\n",
      "Epoch 60/100\n",
      "7409/7409 - 0s - loss: 0.5332 - accuracy: 0.7275\n",
      "Epoch 61/100\n",
      "7409/7409 - 0s - loss: 0.5332 - accuracy: 0.7298\n",
      "Epoch 62/100\n",
      "7409/7409 - 0s - loss: 0.5327 - accuracy: 0.7291\n",
      "Epoch 63/100\n",
      "7409/7409 - 0s - loss: 0.5333 - accuracy: 0.7286\n",
      "Epoch 64/100\n",
      "7409/7409 - 0s - loss: 0.5330 - accuracy: 0.7290\n",
      "Epoch 65/100\n",
      "7409/7409 - 0s - loss: 0.5330 - accuracy: 0.7282\n",
      "Epoch 66/100\n",
      "7409/7409 - 0s - loss: 0.5330 - accuracy: 0.7287\n",
      "Epoch 67/100\n",
      "7409/7409 - 0s - loss: 0.5325 - accuracy: 0.7276\n",
      "Epoch 68/100\n",
      "7409/7409 - 0s - loss: 0.5328 - accuracy: 0.7290\n",
      "Epoch 69/100\n",
      "7409/7409 - 0s - loss: 0.5329 - accuracy: 0.7317\n",
      "Epoch 70/100\n",
      "7409/7409 - 0s - loss: 0.5328 - accuracy: 0.7278\n",
      "Epoch 71/100\n",
      "7409/7409 - 0s - loss: 0.5330 - accuracy: 0.7309\n",
      "Epoch 72/100\n",
      "7409/7409 - 0s - loss: 0.5335 - accuracy: 0.7295\n",
      "Epoch 73/100\n",
      "7409/7409 - 0s - loss: 0.5331 - accuracy: 0.7284\n",
      "Epoch 74/100\n",
      "7409/7409 - 0s - loss: 0.5325 - accuracy: 0.7295\n",
      "Epoch 75/100\n",
      "7409/7409 - 0s - loss: 0.5327 - accuracy: 0.7283\n",
      "Epoch 76/100\n",
      "7409/7409 - 0s - loss: 0.5327 - accuracy: 0.7279\n",
      "Epoch 77/100\n",
      "7409/7409 - 0s - loss: 0.5332 - accuracy: 0.7306\n",
      "Epoch 78/100\n",
      "7409/7409 - 0s - loss: 0.5329 - accuracy: 0.7287\n",
      "Epoch 79/100\n",
      "7409/7409 - 0s - loss: 0.5328 - accuracy: 0.7272\n",
      "Epoch 80/100\n",
      "7409/7409 - 0s - loss: 0.5333 - accuracy: 0.7283\n",
      "Epoch 81/100\n",
      "7409/7409 - 0s - loss: 0.5330 - accuracy: 0.7309\n",
      "Epoch 82/100\n",
      "7409/7409 - 0s - loss: 0.5328 - accuracy: 0.7257\n",
      "Epoch 83/100\n",
      "7409/7409 - 0s - loss: 0.5327 - accuracy: 0.7284\n",
      "Epoch 84/100\n",
      "7409/7409 - 0s - loss: 0.5328 - accuracy: 0.7272\n",
      "Epoch 85/100\n",
      "7409/7409 - 0s - loss: 0.5331 - accuracy: 0.7290\n",
      "Epoch 86/100\n",
      "7409/7409 - 0s - loss: 0.5325 - accuracy: 0.7292\n",
      "Epoch 87/100\n",
      "7409/7409 - 0s - loss: 0.5328 - accuracy: 0.7286\n",
      "Epoch 88/100\n",
      "7409/7409 - 0s - loss: 0.5326 - accuracy: 0.7295\n",
      "Epoch 89/100\n",
      "7409/7409 - 0s - loss: 0.5326 - accuracy: 0.7286\n",
      "Epoch 90/100\n",
      "7409/7409 - 0s - loss: 0.5331 - accuracy: 0.7302\n",
      "Epoch 91/100\n",
      "7409/7409 - 0s - loss: 0.5328 - accuracy: 0.7297\n",
      "Epoch 92/100\n",
      "7409/7409 - 0s - loss: 0.5331 - accuracy: 0.7302\n",
      "Epoch 93/100\n",
      "7409/7409 - 0s - loss: 0.5332 - accuracy: 0.7301\n",
      "Epoch 94/100\n",
      "7409/7409 - 0s - loss: 0.5328 - accuracy: 0.7287\n",
      "Epoch 95/100\n",
      "7409/7409 - 0s - loss: 0.5329 - accuracy: 0.7275\n",
      "Epoch 96/100\n",
      "7409/7409 - 0s - loss: 0.5329 - accuracy: 0.7276\n",
      "Epoch 97/100\n",
      "7409/7409 - 0s - loss: 0.5322 - accuracy: 0.7284\n",
      "Epoch 98/100\n",
      "7409/7409 - 0s - loss: 0.5333 - accuracy: 0.7306\n",
      "Epoch 99/100\n",
      "7409/7409 - 0s - loss: 0.5331 - accuracy: 0.7290\n",
      "Epoch 100/100\n",
      "7409/7409 - 0s - loss: 0.5322 - accuracy: 0.7278\n"
     ]
    },
    {
     "data": {
      "text/plain": [
       "<tensorflow.python.keras.callbacks.History at 0x15831eb4688>"
      ]
     },
     "execution_count": 50,
     "metadata": {},
     "output_type": "execute_result"
    }
   ],
   "source": [
    "# Fit (train) the model\n",
    "model.fit(\n",
    "    X_train_scaled,\n",
    "    y_train_categorical,\n",
    "    epochs=100,\n",
    "    shuffle=True,\n",
    "    verbose=2\n",
    ")"
   ]
  },
  {
   "cell_type": "code",
   "execution_count": 51,
   "metadata": {},
   "outputs": [
    {
     "name": "stdout",
     "output_type": "stream",
     "text": [
      "2470/2470 - 0s - loss: 0.5454 - accuracy: 0.7219\n",
      "Loss: 0.5453802993181746, Accuracy: 0.7218623757362366\n"
     ]
    }
   ],
   "source": [
    "# Evaluate the model using the training data\n",
    "model_loss, model_accuracy = model.evaluate(X_test_scaled, y_test_categorical, verbose=2)\n",
    "print(f\"Loss: {model_loss}, Accuracy: {model_accuracy}\")"
   ]
  },
  {
   "cell_type": "markdown",
   "metadata": {},
   "source": [
    "# Deep Learning"
   ]
  },
  {
   "cell_type": "code",
   "execution_count": 52,
   "metadata": {},
   "outputs": [],
   "source": [
    "deep_model = Sequential()\n",
    "\n",
    "number_inputs = 4\n",
    "number_hidden_nodes = 10\n",
    "\n",
    "deep_model.add(Dense(units=number_hidden_nodes,\n",
    "                activation='relu', input_dim=number_inputs))\n",
    "\n",
    "deep_model.add(Dense(units=number_hidden_nodes, activation='relu'))\n",
    "\n",
    "number_classes = 2\n",
    "deep_model.add(Dense(units=number_classes, activation='softmax'))"
   ]
  },
  {
   "cell_type": "code",
   "execution_count": 53,
   "metadata": {},
   "outputs": [
    {
     "name": "stdout",
     "output_type": "stream",
     "text": [
      "Model: \"sequential_1\"\n",
      "_________________________________________________________________\n",
      "Layer (type)                 Output Shape              Param #   \n",
      "=================================================================\n",
      "dense_2 (Dense)              (None, 10)                50        \n",
      "_________________________________________________________________\n",
      "dense_3 (Dense)              (None, 10)                110       \n",
      "_________________________________________________________________\n",
      "dense_4 (Dense)              (None, 2)                 22        \n",
      "=================================================================\n",
      "Total params: 182\n",
      "Trainable params: 182\n",
      "Non-trainable params: 0\n",
      "_________________________________________________________________\n"
     ]
    }
   ],
   "source": [
    "deep_model.summary()"
   ]
  },
  {
   "cell_type": "code",
   "execution_count": 54,
   "metadata": {
    "scrolled": true
   },
   "outputs": [
    {
     "name": "stdout",
     "output_type": "stream",
     "text": [
      "Train on 7409 samples\n",
      "Epoch 1/100\n",
      "7409/7409 - 1s - loss: 0.6449 - accuracy: 0.6659\n",
      "Epoch 2/100\n",
      "7409/7409 - 0s - loss: 0.5534 - accuracy: 0.7183\n",
      "Epoch 3/100\n",
      "7409/7409 - 0s - loss: 0.5390 - accuracy: 0.7240\n",
      "Epoch 4/100\n",
      "7409/7409 - 0s - loss: 0.5377 - accuracy: 0.7268\n",
      "Epoch 5/100\n",
      "7409/7409 - 0s - loss: 0.5381 - accuracy: 0.7237\n",
      "Epoch 6/100\n",
      "7409/7409 - 0s - loss: 0.5358 - accuracy: 0.7278\n",
      "Epoch 7/100\n",
      "7409/7409 - 0s - loss: 0.5354 - accuracy: 0.7295\n",
      "Epoch 8/100\n",
      "7409/7409 - 0s - loss: 0.5352 - accuracy: 0.7264\n",
      "Epoch 9/100\n",
      "7409/7409 - 0s - loss: 0.5344 - accuracy: 0.7297\n",
      "Epoch 10/100\n",
      "7409/7409 - 0s - loss: 0.5356 - accuracy: 0.7283\n",
      "Epoch 11/100\n",
      "7409/7409 - 0s - loss: 0.5345 - accuracy: 0.7251\n",
      "Epoch 12/100\n",
      "7409/7409 - 0s - loss: 0.5343 - accuracy: 0.7249\n",
      "Epoch 13/100\n",
      "7409/7409 - 0s - loss: 0.5348 - accuracy: 0.7271\n",
      "Epoch 14/100\n",
      "7409/7409 - 0s - loss: 0.5356 - accuracy: 0.7261\n",
      "Epoch 15/100\n",
      "7409/7409 - 0s - loss: 0.5348 - accuracy: 0.7272\n",
      "Epoch 16/100\n",
      "7409/7409 - 0s - loss: 0.5341 - accuracy: 0.7270\n",
      "Epoch 17/100\n",
      "7409/7409 - 0s - loss: 0.5341 - accuracy: 0.7280\n",
      "Epoch 18/100\n",
      "7409/7409 - 0s - loss: 0.5345 - accuracy: 0.7297\n",
      "Epoch 19/100\n",
      "7409/7409 - 0s - loss: 0.5340 - accuracy: 0.7284\n",
      "Epoch 20/100\n",
      "7409/7409 - 0s - loss: 0.5339 - accuracy: 0.7288\n",
      "Epoch 21/100\n",
      "7409/7409 - 0s - loss: 0.5352 - accuracy: 0.7310\n",
      "Epoch 22/100\n",
      "7409/7409 - 0s - loss: 0.5343 - accuracy: 0.7265\n",
      "Epoch 23/100\n",
      "7409/7409 - 0s - loss: 0.5342 - accuracy: 0.7272\n",
      "Epoch 24/100\n",
      "7409/7409 - 0s - loss: 0.5344 - accuracy: 0.7261\n",
      "Epoch 25/100\n",
      "7409/7409 - 0s - loss: 0.5341 - accuracy: 0.7292\n",
      "Epoch 26/100\n",
      "7409/7409 - 0s - loss: 0.5342 - accuracy: 0.7264\n",
      "Epoch 27/100\n",
      "7409/7409 - 0s - loss: 0.5336 - accuracy: 0.7287\n",
      "Epoch 28/100\n",
      "7409/7409 - 0s - loss: 0.5348 - accuracy: 0.7276\n",
      "Epoch 29/100\n",
      "7409/7409 - 0s - loss: 0.5334 - accuracy: 0.7272\n",
      "Epoch 30/100\n",
      "7409/7409 - 0s - loss: 0.5336 - accuracy: 0.7286\n",
      "Epoch 31/100\n",
      "7409/7409 - 0s - loss: 0.5332 - accuracy: 0.7299\n",
      "Epoch 32/100\n",
      "7409/7409 - 0s - loss: 0.5334 - accuracy: 0.7297\n",
      "Epoch 33/100\n",
      "7409/7409 - 0s - loss: 0.5334 - accuracy: 0.7271\n",
      "Epoch 34/100\n",
      "7409/7409 - 0s - loss: 0.5346 - accuracy: 0.7284\n",
      "Epoch 35/100\n",
      "7409/7409 - 0s - loss: 0.5336 - accuracy: 0.7288\n",
      "Epoch 36/100\n",
      "7409/7409 - 0s - loss: 0.5333 - accuracy: 0.7264\n",
      "Epoch 37/100\n",
      "7409/7409 - 0s - loss: 0.5331 - accuracy: 0.7287\n",
      "Epoch 38/100\n",
      "7409/7409 - 0s - loss: 0.5326 - accuracy: 0.7279\n",
      "Epoch 39/100\n",
      "7409/7409 - 0s - loss: 0.5339 - accuracy: 0.7267\n",
      "Epoch 40/100\n",
      "7409/7409 - 0s - loss: 0.5342 - accuracy: 0.7260\n",
      "Epoch 41/100\n",
      "7409/7409 - 0s - loss: 0.5336 - accuracy: 0.7286\n",
      "Epoch 42/100\n",
      "7409/7409 - 0s - loss: 0.5334 - accuracy: 0.7292\n",
      "Epoch 43/100\n",
      "7409/7409 - 0s - loss: 0.5332 - accuracy: 0.7280\n",
      "Epoch 44/100\n",
      "7409/7409 - 0s - loss: 0.5338 - accuracy: 0.7265\n",
      "Epoch 45/100\n",
      "7409/7409 - 0s - loss: 0.5329 - accuracy: 0.7283\n",
      "Epoch 46/100\n",
      "7409/7409 - 0s - loss: 0.5340 - accuracy: 0.7301\n",
      "Epoch 47/100\n",
      "7409/7409 - 0s - loss: 0.5332 - accuracy: 0.7299\n",
      "Epoch 48/100\n",
      "7409/7409 - 0s - loss: 0.5330 - accuracy: 0.7295\n",
      "Epoch 49/100\n",
      "7409/7409 - 0s - loss: 0.5339 - accuracy: 0.7264\n",
      "Epoch 50/100\n",
      "7409/7409 - 0s - loss: 0.5331 - accuracy: 0.7284\n",
      "Epoch 51/100\n",
      "7409/7409 - 0s - loss: 0.5328 - accuracy: 0.7297\n",
      "Epoch 52/100\n",
      "7409/7409 - 0s - loss: 0.5328 - accuracy: 0.7310\n",
      "Epoch 53/100\n",
      "7409/7409 - 0s - loss: 0.5335 - accuracy: 0.7283\n",
      "Epoch 54/100\n",
      "7409/7409 - 0s - loss: 0.5336 - accuracy: 0.7284\n",
      "Epoch 55/100\n",
      "7409/7409 - 0s - loss: 0.5331 - accuracy: 0.7279\n",
      "Epoch 56/100\n",
      "7409/7409 - 0s - loss: 0.5331 - accuracy: 0.7274\n",
      "Epoch 57/100\n",
      "7409/7409 - 0s - loss: 0.5335 - accuracy: 0.7284\n",
      "Epoch 58/100\n",
      "7409/7409 - 0s - loss: 0.5337 - accuracy: 0.7275\n",
      "Epoch 59/100\n",
      "7409/7409 - 0s - loss: 0.5335 - accuracy: 0.7294\n",
      "Epoch 60/100\n",
      "7409/7409 - 0s - loss: 0.5325 - accuracy: 0.7270\n",
      "Epoch 61/100\n",
      "7409/7409 - 0s - loss: 0.5327 - accuracy: 0.7297\n",
      "Epoch 62/100\n",
      "7409/7409 - 0s - loss: 0.5337 - accuracy: 0.7298\n",
      "Epoch 63/100\n",
      "7409/7409 - 0s - loss: 0.5338 - accuracy: 0.7276\n",
      "Epoch 64/100\n",
      "7409/7409 - 0s - loss: 0.5333 - accuracy: 0.7251\n",
      "Epoch 65/100\n",
      "7409/7409 - 0s - loss: 0.5325 - accuracy: 0.7306\n",
      "Epoch 66/100\n",
      "7409/7409 - 0s - loss: 0.5345 - accuracy: 0.7271\n",
      "Epoch 67/100\n",
      "7409/7409 - 0s - loss: 0.5323 - accuracy: 0.7306\n",
      "Epoch 68/100\n",
      "7409/7409 - 0s - loss: 0.5343 - accuracy: 0.7257\n",
      "Epoch 69/100\n",
      "7409/7409 - 0s - loss: 0.5329 - accuracy: 0.7284\n",
      "Epoch 70/100\n",
      "7409/7409 - 0s - loss: 0.5325 - accuracy: 0.7287\n",
      "Epoch 71/100\n",
      "7409/7409 - 0s - loss: 0.5329 - accuracy: 0.7286\n",
      "Epoch 72/100\n",
      "7409/7409 - 0s - loss: 0.5325 - accuracy: 0.7276\n",
      "Epoch 73/100\n",
      "7409/7409 - 0s - loss: 0.5335 - accuracy: 0.7298\n",
      "Epoch 74/100\n",
      "7409/7409 - 0s - loss: 0.5333 - accuracy: 0.7274\n",
      "Epoch 75/100\n",
      "7409/7409 - 0s - loss: 0.5325 - accuracy: 0.7286\n",
      "Epoch 76/100\n",
      "7409/7409 - 0s - loss: 0.5331 - accuracy: 0.7284\n",
      "Epoch 77/100\n",
      "7409/7409 - 0s - loss: 0.5331 - accuracy: 0.7286\n",
      "Epoch 78/100\n",
      "7409/7409 - 0s - loss: 0.5332 - accuracy: 0.7284\n",
      "Epoch 79/100\n",
      "7409/7409 - 0s - loss: 0.5327 - accuracy: 0.7295\n",
      "Epoch 80/100\n",
      "7409/7409 - 0s - loss: 0.5333 - accuracy: 0.7279\n",
      "Epoch 81/100\n",
      "7409/7409 - 0s - loss: 0.5325 - accuracy: 0.7311\n",
      "Epoch 82/100\n",
      "7409/7409 - 0s - loss: 0.5325 - accuracy: 0.7279\n",
      "Epoch 83/100\n",
      "7409/7409 - 0s - loss: 0.5322 - accuracy: 0.7299\n",
      "Epoch 84/100\n",
      "7409/7409 - 0s - loss: 0.5323 - accuracy: 0.7287\n",
      "Epoch 85/100\n",
      "7409/7409 - 0s - loss: 0.5333 - accuracy: 0.7298\n",
      "Epoch 86/100\n",
      "7409/7409 - 0s - loss: 0.5330 - accuracy: 0.7291\n",
      "Epoch 87/100\n",
      "7409/7409 - 0s - loss: 0.5327 - accuracy: 0.7278\n",
      "Epoch 88/100\n",
      "7409/7409 - 0s - loss: 0.5325 - accuracy: 0.7287\n",
      "Epoch 89/100\n",
      "7409/7409 - 0s - loss: 0.5328 - accuracy: 0.7297\n",
      "Epoch 90/100\n",
      "7409/7409 - 0s - loss: 0.5327 - accuracy: 0.7278\n",
      "Epoch 91/100\n",
      "7409/7409 - 0s - loss: 0.5327 - accuracy: 0.7279\n",
      "Epoch 92/100\n",
      "7409/7409 - 0s - loss: 0.5328 - accuracy: 0.7291\n",
      "Epoch 93/100\n",
      "7409/7409 - 0s - loss: 0.5326 - accuracy: 0.7303\n",
      "Epoch 94/100\n",
      "7409/7409 - 0s - loss: 0.5328 - accuracy: 0.7291\n",
      "Epoch 95/100\n",
      "7409/7409 - 0s - loss: 0.5323 - accuracy: 0.7279\n",
      "Epoch 96/100\n",
      "7409/7409 - 0s - loss: 0.5319 - accuracy: 0.7290\n",
      "Epoch 97/100\n",
      "7409/7409 - 0s - loss: 0.5339 - accuracy: 0.7280\n",
      "Epoch 98/100\n",
      "7409/7409 - 0s - loss: 0.5323 - accuracy: 0.7280\n",
      "Epoch 99/100\n",
      "7409/7409 - 0s - loss: 0.5337 - accuracy: 0.7252\n",
      "Epoch 100/100\n",
      "7409/7409 - 0s - loss: 0.5322 - accuracy: 0.7291\n"
     ]
    },
    {
     "data": {
      "text/plain": [
       "<tensorflow.python.keras.callbacks.History at 0x158324c3808>"
      ]
     },
     "execution_count": 54,
     "metadata": {},
     "output_type": "execute_result"
    }
   ],
   "source": [
    "deep_model.compile(optimizer='adam',\n",
    "                   loss='categorical_crossentropy',\n",
    "                   metrics=['accuracy'])\n",
    "\n",
    "deep_model.fit(\n",
    "    X_train_scaled,\n",
    "    y_train_categorical,\n",
    "    epochs=100,\n",
    "    shuffle=True,\n",
    "    verbose=2\n",
    ")"
   ]
  },
  {
   "cell_type": "code",
   "execution_count": 55,
   "metadata": {},
   "outputs": [
    {
     "name": "stdout",
     "output_type": "stream",
     "text": [
      "2470/2470 - 0s - loss: 0.5450 - accuracy: 0.7202\n",
      "Deep Neural Network - Loss: 0.5450253473361012, Accuracy: 0.7202429175376892\n"
     ]
    }
   ],
   "source": [
    "model_loss, model_accuracy = deep_model.evaluate(\n",
    "    X_test_scaled, y_test_categorical, verbose=2)\n",
    "print(f\"Deep Neural Network - Loss: {model_loss}, Accuracy: {model_accuracy}\")"
   ]
  },
  {
   "cell_type": "code",
   "execution_count": null,
   "metadata": {},
   "outputs": [],
   "source": []
  }
 ],
 "metadata": {
  "kernelspec": {
   "display_name": "Python 3.7.5 64-bit ('PythonData': conda)",
   "language": "python",
   "name": "python37564bitpythondatacondaadf2dc53d8344d2f91c5b97fe5b73276"
  },
  "language_info": {
   "codemirror_mode": {
    "name": "ipython",
    "version": 3
   },
   "file_extension": ".py",
   "mimetype": "text/x-python",
   "name": "python",
   "nbconvert_exporter": "python",
   "pygments_lexer": "ipython3",
   "version": "3.7.5"
  }
 },
 "nbformat": 4,
 "nbformat_minor": 2
}
